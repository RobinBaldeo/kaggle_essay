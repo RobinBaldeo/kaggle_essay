{
 "cells": [
  {
   "cell_type": "code",
   "execution_count": 1,
   "metadata": {
    "colab": {
     "base_uri": "https://localhost:8080/"
    },
    "id": "uCLs4pRlnQ9-",
    "outputId": "a6ac3dc9-fc2b-4096-d92b-523ecdecb0eb"
   },
   "outputs": [
    {
     "output_type": "stream",
     "name": "stdout",
     "text": [
      "Mounted at /content/drive\n"
     ]
    }
   ],
   "source": [
    "\n",
    "from google.colab import drive\n",
    "drive.mount('/content/drive')"
   ]
  },
  {
   "cell_type": "code",
   "execution_count": 2,
   "metadata": {
    "colab": {
     "base_uri": "https://localhost:8080/"
    },
    "id": "4v5_L6SKfuMG",
    "outputId": "c3d2bbf1-5550-45b6-857b-022a40d311f2"
   },
   "outputs": [
    {
     "output_type": "stream",
     "name": "stdout",
     "text": [
      "Collecting accelerate\n",
      "  Downloading accelerate-0.31.0-py3-none-any.whl (309 kB)\n",
      "\u001B[2K     \u001B[90m━━━━━━━━━━━━━━━━━━━━━━━━━━━━━━━━━━━━━━━━\u001B[0m \u001B[32m309.4/309.4 kB\u001B[0m \u001B[31m5.8 MB/s\u001B[0m eta \u001B[36m0:00:00\u001B[0m\n",
      "\u001B[?25hRequirement already satisfied: numpy>=1.17 in /usr/local/lib/python3.10/dist-packages (from accelerate) (1.25.2)\n",
      "Requirement already satisfied: packaging>=20.0 in /usr/local/lib/python3.10/dist-packages (from accelerate) (24.1)\n",
      "Requirement already satisfied: psutil in /usr/local/lib/python3.10/dist-packages (from accelerate) (5.9.5)\n",
      "Requirement already satisfied: pyyaml in /usr/local/lib/python3.10/dist-packages (from accelerate) (6.0.1)\n",
      "Requirement already satisfied: torch>=1.10.0 in /usr/local/lib/python3.10/dist-packages (from accelerate) (2.3.0+cu121)\n",
      "Requirement already satisfied: huggingface-hub in /usr/local/lib/python3.10/dist-packages (from accelerate) (0.23.4)\n",
      "Requirement already satisfied: safetensors>=0.3.1 in /usr/local/lib/python3.10/dist-packages (from accelerate) (0.4.3)\n",
      "Requirement already satisfied: filelock in /usr/local/lib/python3.10/dist-packages (from torch>=1.10.0->accelerate) (3.15.1)\n",
      "Requirement already satisfied: typing-extensions>=4.8.0 in /usr/local/lib/python3.10/dist-packages (from torch>=1.10.0->accelerate) (4.12.2)\n",
      "Requirement already satisfied: sympy in /usr/local/lib/python3.10/dist-packages (from torch>=1.10.0->accelerate) (1.12.1)\n",
      "Requirement already satisfied: networkx in /usr/local/lib/python3.10/dist-packages (from torch>=1.10.0->accelerate) (3.3)\n",
      "Requirement already satisfied: jinja2 in /usr/local/lib/python3.10/dist-packages (from torch>=1.10.0->accelerate) (3.1.4)\n",
      "Requirement already satisfied: fsspec in /usr/local/lib/python3.10/dist-packages (from torch>=1.10.0->accelerate) (2023.6.0)\n",
      "Collecting nvidia-cuda-nvrtc-cu12==12.1.105 (from torch>=1.10.0->accelerate)\n",
      "  Using cached nvidia_cuda_nvrtc_cu12-12.1.105-py3-none-manylinux1_x86_64.whl (23.7 MB)\n",
      "Collecting nvidia-cuda-runtime-cu12==12.1.105 (from torch>=1.10.0->accelerate)\n",
      "  Using cached nvidia_cuda_runtime_cu12-12.1.105-py3-none-manylinux1_x86_64.whl (823 kB)\n",
      "Collecting nvidia-cuda-cupti-cu12==12.1.105 (from torch>=1.10.0->accelerate)\n",
      "  Using cached nvidia_cuda_cupti_cu12-12.1.105-py3-none-manylinux1_x86_64.whl (14.1 MB)\n",
      "Collecting nvidia-cudnn-cu12==8.9.2.26 (from torch>=1.10.0->accelerate)\n",
      "  Using cached nvidia_cudnn_cu12-8.9.2.26-py3-none-manylinux1_x86_64.whl (731.7 MB)\n",
      "Collecting nvidia-cublas-cu12==12.1.3.1 (from torch>=1.10.0->accelerate)\n",
      "  Using cached nvidia_cublas_cu12-12.1.3.1-py3-none-manylinux1_x86_64.whl (410.6 MB)\n",
      "Collecting nvidia-cufft-cu12==11.0.2.54 (from torch>=1.10.0->accelerate)\n",
      "  Using cached nvidia_cufft_cu12-11.0.2.54-py3-none-manylinux1_x86_64.whl (121.6 MB)\n",
      "Collecting nvidia-curand-cu12==10.3.2.106 (from torch>=1.10.0->accelerate)\n",
      "  Using cached nvidia_curand_cu12-10.3.2.106-py3-none-manylinux1_x86_64.whl (56.5 MB)\n",
      "Collecting nvidia-cusolver-cu12==11.4.5.107 (from torch>=1.10.0->accelerate)\n",
      "  Using cached nvidia_cusolver_cu12-11.4.5.107-py3-none-manylinux1_x86_64.whl (124.2 MB)\n",
      "Collecting nvidia-cusparse-cu12==12.1.0.106 (from torch>=1.10.0->accelerate)\n",
      "  Using cached nvidia_cusparse_cu12-12.1.0.106-py3-none-manylinux1_x86_64.whl (196.0 MB)\n",
      "Collecting nvidia-nccl-cu12==2.20.5 (from torch>=1.10.0->accelerate)\n",
      "  Using cached nvidia_nccl_cu12-2.20.5-py3-none-manylinux2014_x86_64.whl (176.2 MB)\n",
      "Collecting nvidia-nvtx-cu12==12.1.105 (from torch>=1.10.0->accelerate)\n",
      "  Using cached nvidia_nvtx_cu12-12.1.105-py3-none-manylinux1_x86_64.whl (99 kB)\n",
      "Requirement already satisfied: triton==2.3.0 in /usr/local/lib/python3.10/dist-packages (from torch>=1.10.0->accelerate) (2.3.0)\n",
      "Collecting nvidia-nvjitlink-cu12 (from nvidia-cusolver-cu12==11.4.5.107->torch>=1.10.0->accelerate)\n",
      "  Downloading nvidia_nvjitlink_cu12-12.5.40-py3-none-manylinux2014_x86_64.whl (21.3 MB)\n",
      "\u001B[2K     \u001B[90m━━━━━━━━━━━━━━━━━━━━━━━━━━━━━━━━━━━━━━━━\u001B[0m \u001B[32m21.3/21.3 MB\u001B[0m \u001B[31m72.2 MB/s\u001B[0m eta \u001B[36m0:00:00\u001B[0m\n",
      "\u001B[?25hRequirement already satisfied: requests in /usr/local/lib/python3.10/dist-packages (from huggingface-hub->accelerate) (2.31.0)\n",
      "Requirement already satisfied: tqdm>=4.42.1 in /usr/local/lib/python3.10/dist-packages (from huggingface-hub->accelerate) (4.66.4)\n",
      "Requirement already satisfied: MarkupSafe>=2.0 in /usr/local/lib/python3.10/dist-packages (from jinja2->torch>=1.10.0->accelerate) (2.1.5)\n",
      "Requirement already satisfied: charset-normalizer<4,>=2 in /usr/local/lib/python3.10/dist-packages (from requests->huggingface-hub->accelerate) (3.3.2)\n",
      "Requirement already satisfied: idna<4,>=2.5 in /usr/local/lib/python3.10/dist-packages (from requests->huggingface-hub->accelerate) (3.7)\n",
      "Requirement already satisfied: urllib3<3,>=1.21.1 in /usr/local/lib/python3.10/dist-packages (from requests->huggingface-hub->accelerate) (2.0.7)\n",
      "Requirement already satisfied: certifi>=2017.4.17 in /usr/local/lib/python3.10/dist-packages (from requests->huggingface-hub->accelerate) (2024.6.2)\n",
      "Requirement already satisfied: mpmath<1.4.0,>=1.1.0 in /usr/local/lib/python3.10/dist-packages (from sympy->torch>=1.10.0->accelerate) (1.3.0)\n",
      "Installing collected packages: nvidia-nvtx-cu12, nvidia-nvjitlink-cu12, nvidia-nccl-cu12, nvidia-curand-cu12, nvidia-cufft-cu12, nvidia-cuda-runtime-cu12, nvidia-cuda-nvrtc-cu12, nvidia-cuda-cupti-cu12, nvidia-cublas-cu12, nvidia-cusparse-cu12, nvidia-cudnn-cu12, nvidia-cusolver-cu12, accelerate\n",
      "Successfully installed accelerate-0.31.0 nvidia-cublas-cu12-12.1.3.1 nvidia-cuda-cupti-cu12-12.1.105 nvidia-cuda-nvrtc-cu12-12.1.105 nvidia-cuda-runtime-cu12-12.1.105 nvidia-cudnn-cu12-8.9.2.26 nvidia-cufft-cu12-11.0.2.54 nvidia-curand-cu12-10.3.2.106 nvidia-cusolver-cu12-11.4.5.107 nvidia-cusparse-cu12-12.1.0.106 nvidia-nccl-cu12-2.20.5 nvidia-nvjitlink-cu12-12.5.40 nvidia-nvtx-cu12-12.1.105\n",
      "Collecting datasets\n",
      "  Downloading datasets-2.20.0-py3-none-any.whl (547 kB)\n",
      "\u001B[2K     \u001B[90m━━━━━━━━━━━━━━━━━━━━━━━━━━━━━━━━━━━━━━━━\u001B[0m \u001B[32m547.8/547.8 kB\u001B[0m \u001B[31m9.1 MB/s\u001B[0m eta \u001B[36m0:00:00\u001B[0m\n",
      "\u001B[?25hRequirement already satisfied: filelock in /usr/local/lib/python3.10/dist-packages (from datasets) (3.15.1)\n",
      "Requirement already satisfied: numpy>=1.17 in /usr/local/lib/python3.10/dist-packages (from datasets) (1.25.2)\n",
      "Collecting pyarrow>=15.0.0 (from datasets)\n",
      "  Downloading pyarrow-16.1.0-cp310-cp310-manylinux_2_28_x86_64.whl (40.8 MB)\n",
      "\u001B[2K     \u001B[90m━━━━━━━━━━━━━━━━━━━━━━━━━━━━━━━━━━━━━━━━\u001B[0m \u001B[32m40.8/40.8 MB\u001B[0m \u001B[31m13.2 MB/s\u001B[0m eta \u001B[36m0:00:00\u001B[0m\n",
      "\u001B[?25hRequirement already satisfied: pyarrow-hotfix in /usr/local/lib/python3.10/dist-packages (from datasets) (0.6)\n",
      "Collecting dill<0.3.9,>=0.3.0 (from datasets)\n",
      "  Downloading dill-0.3.8-py3-none-any.whl (116 kB)\n",
      "\u001B[2K     \u001B[90m━━━━━━━━━━━━━━━━━━━━━━━━━━━━━━━━━━━━━━━━\u001B[0m \u001B[32m116.3/116.3 kB\u001B[0m \u001B[31m20.5 MB/s\u001B[0m eta \u001B[36m0:00:00\u001B[0m\n",
      "\u001B[?25hRequirement already satisfied: pandas in /usr/local/lib/python3.10/dist-packages (from datasets) (2.0.3)\n",
      "Collecting requests>=2.32.2 (from datasets)\n",
      "  Downloading requests-2.32.3-py3-none-any.whl (64 kB)\n",
      "\u001B[2K     \u001B[90m━━━━━━━━━━━━━━━━━━━━━━━━━━━━━━━━━━━━━━━━\u001B[0m \u001B[32m64.9/64.9 kB\u001B[0m \u001B[31m11.1 MB/s\u001B[0m eta \u001B[36m0:00:00\u001B[0m\n",
      "\u001B[?25hRequirement already satisfied: tqdm>=4.66.3 in /usr/local/lib/python3.10/dist-packages (from datasets) (4.66.4)\n",
      "Collecting xxhash (from datasets)\n",
      "  Downloading xxhash-3.4.1-cp310-cp310-manylinux_2_17_x86_64.manylinux2014_x86_64.whl (194 kB)\n",
      "\u001B[2K     \u001B[90m━━━━━━━━━━━━━━━━━━━━━━━━━━━━━━━━━━━━━━━━\u001B[0m \u001B[32m194.1/194.1 kB\u001B[0m \u001B[31m30.3 MB/s\u001B[0m eta \u001B[36m0:00:00\u001B[0m\n",
      "\u001B[?25hCollecting multiprocess (from datasets)\n",
      "  Downloading multiprocess-0.70.16-py310-none-any.whl (134 kB)\n",
      "\u001B[2K     \u001B[90m━━━━━━━━━━━━━━━━━━━━━━━━━━━━━━━━━━━━━━━━\u001B[0m \u001B[32m134.8/134.8 kB\u001B[0m \u001B[31m24.0 MB/s\u001B[0m eta \u001B[36m0:00:00\u001B[0m\n",
      "\u001B[?25hRequirement already satisfied: fsspec[http]<=2024.5.0,>=2023.1.0 in /usr/local/lib/python3.10/dist-packages (from datasets) (2023.6.0)\n",
      "Requirement already satisfied: aiohttp in /usr/local/lib/python3.10/dist-packages (from datasets) (3.9.5)\n",
      "Requirement already satisfied: huggingface-hub>=0.21.2 in /usr/local/lib/python3.10/dist-packages (from datasets) (0.23.4)\n",
      "Requirement already satisfied: packaging in /usr/local/lib/python3.10/dist-packages (from datasets) (24.1)\n",
      "Requirement already satisfied: pyyaml>=5.1 in /usr/local/lib/python3.10/dist-packages (from datasets) (6.0.1)\n",
      "Requirement already satisfied: aiosignal>=1.1.2 in /usr/local/lib/python3.10/dist-packages (from aiohttp->datasets) (1.3.1)\n",
      "Requirement already satisfied: attrs>=17.3.0 in /usr/local/lib/python3.10/dist-packages (from aiohttp->datasets) (23.2.0)\n",
      "Requirement already satisfied: frozenlist>=1.1.1 in /usr/local/lib/python3.10/dist-packages (from aiohttp->datasets) (1.4.1)\n",
      "Requirement already satisfied: multidict<7.0,>=4.5 in /usr/local/lib/python3.10/dist-packages (from aiohttp->datasets) (6.0.5)\n",
      "Requirement already satisfied: yarl<2.0,>=1.0 in /usr/local/lib/python3.10/dist-packages (from aiohttp->datasets) (1.9.4)\n",
      "Requirement already satisfied: async-timeout<5.0,>=4.0 in /usr/local/lib/python3.10/dist-packages (from aiohttp->datasets) (4.0.3)\n",
      "Requirement already satisfied: typing-extensions>=3.7.4.3 in /usr/local/lib/python3.10/dist-packages (from huggingface-hub>=0.21.2->datasets) (4.12.2)\n",
      "Requirement already satisfied: charset-normalizer<4,>=2 in /usr/local/lib/python3.10/dist-packages (from requests>=2.32.2->datasets) (3.3.2)\n",
      "Requirement already satisfied: idna<4,>=2.5 in /usr/local/lib/python3.10/dist-packages (from requests>=2.32.2->datasets) (3.7)\n",
      "Requirement already satisfied: urllib3<3,>=1.21.1 in /usr/local/lib/python3.10/dist-packages (from requests>=2.32.2->datasets) (2.0.7)\n",
      "Requirement already satisfied: certifi>=2017.4.17 in /usr/local/lib/python3.10/dist-packages (from requests>=2.32.2->datasets) (2024.6.2)\n",
      "Requirement already satisfied: python-dateutil>=2.8.2 in /usr/local/lib/python3.10/dist-packages (from pandas->datasets) (2.8.2)\n",
      "Requirement already satisfied: pytz>=2020.1 in /usr/local/lib/python3.10/dist-packages (from pandas->datasets) (2023.4)\n",
      "Requirement already satisfied: tzdata>=2022.1 in /usr/local/lib/python3.10/dist-packages (from pandas->datasets) (2024.1)\n",
      "Requirement already satisfied: six>=1.5 in /usr/local/lib/python3.10/dist-packages (from python-dateutil>=2.8.2->pandas->datasets) (1.16.0)\n",
      "Installing collected packages: xxhash, requests, pyarrow, dill, multiprocess, datasets\n",
      "  Attempting uninstall: requests\n",
      "    Found existing installation: requests 2.31.0\n",
      "    Uninstalling requests-2.31.0:\n",
      "      Successfully uninstalled requests-2.31.0\n",
      "  Attempting uninstall: pyarrow\n",
      "    Found existing installation: pyarrow 14.0.2\n",
      "    Uninstalling pyarrow-14.0.2:\n",
      "      Successfully uninstalled pyarrow-14.0.2\n",
      "\u001B[31mERROR: pip's dependency resolver does not currently take into account all the packages that are installed. This behaviour is the source of the following dependency conflicts.\n",
      "cudf-cu12 24.4.1 requires pyarrow<15.0.0a0,>=14.0.1, but you have pyarrow 16.1.0 which is incompatible.\n",
      "google-colab 1.0.0 requires requests==2.31.0, but you have requests 2.32.3 which is incompatible.\n",
      "ibis-framework 8.0.0 requires pyarrow<16,>=2, but you have pyarrow 16.1.0 which is incompatible.\u001B[0m\u001B[31m\n",
      "\u001B[0mSuccessfully installed datasets-2.20.0 dill-0.3.8 multiprocess-0.70.16 pyarrow-16.1.0 requests-2.32.3 xxhash-3.4.1\n",
      "Collecting shap\n",
      "  Downloading shap-0.45.1-cp310-cp310-manylinux_2_12_x86_64.manylinux2010_x86_64.manylinux_2_17_x86_64.manylinux2014_x86_64.whl (540 kB)\n",
      "\u001B[2K     \u001B[90m━━━━━━━━━━━━━━━━━━━━━━━━━━━━━━━━━━━━━━━━\u001B[0m \u001B[32m540.5/540.5 kB\u001B[0m \u001B[31m8.8 MB/s\u001B[0m eta \u001B[36m0:00:00\u001B[0m\n",
      "\u001B[?25hRequirement already satisfied: numpy in /usr/local/lib/python3.10/dist-packages (from shap) (1.25.2)\n",
      "Requirement already satisfied: scipy in /usr/local/lib/python3.10/dist-packages (from shap) (1.11.4)\n",
      "Requirement already satisfied: scikit-learn in /usr/local/lib/python3.10/dist-packages (from shap) (1.2.2)\n",
      "Requirement already satisfied: pandas in /usr/local/lib/python3.10/dist-packages (from shap) (2.0.3)\n",
      "Requirement already satisfied: tqdm>=4.27.0 in /usr/local/lib/python3.10/dist-packages (from shap) (4.66.4)\n",
      "Requirement already satisfied: packaging>20.9 in /usr/local/lib/python3.10/dist-packages (from shap) (24.1)\n",
      "Collecting slicer==0.0.8 (from shap)\n",
      "  Downloading slicer-0.0.8-py3-none-any.whl (15 kB)\n",
      "Requirement already satisfied: numba in /usr/local/lib/python3.10/dist-packages (from shap) (0.58.1)\n",
      "Requirement already satisfied: cloudpickle in /usr/local/lib/python3.10/dist-packages (from shap) (2.2.1)\n",
      "Requirement already satisfied: llvmlite<0.42,>=0.41.0dev0 in /usr/local/lib/python3.10/dist-packages (from numba->shap) (0.41.1)\n",
      "Requirement already satisfied: python-dateutil>=2.8.2 in /usr/local/lib/python3.10/dist-packages (from pandas->shap) (2.8.2)\n",
      "Requirement already satisfied: pytz>=2020.1 in /usr/local/lib/python3.10/dist-packages (from pandas->shap) (2023.4)\n",
      "Requirement already satisfied: tzdata>=2022.1 in /usr/local/lib/python3.10/dist-packages (from pandas->shap) (2024.1)\n",
      "Requirement already satisfied: joblib>=1.1.1 in /usr/local/lib/python3.10/dist-packages (from scikit-learn->shap) (1.4.2)\n",
      "Requirement already satisfied: threadpoolctl>=2.0.0 in /usr/local/lib/python3.10/dist-packages (from scikit-learn->shap) (3.5.0)\n",
      "Requirement already satisfied: six>=1.5 in /usr/local/lib/python3.10/dist-packages (from python-dateutil>=2.8.2->pandas->shap) (1.16.0)\n",
      "Installing collected packages: slicer, shap\n",
      "Successfully installed shap-0.45.1 slicer-0.0.8\n"
     ]
    }
   ],
   "source": [
    "!pip install accelerate\n",
    "!pip install datasets\n",
    "!pip install shap\n"
   ]
  },
  {
   "cell_type": "code",
   "execution_count": 3,
   "metadata": {
    "colab": {
     "base_uri": "https://localhost:8080/"
    },
    "id": "2qozokBmCwuF",
    "outputId": "d77aca46-554b-4648-ad49-63cb855ee6f6"
   },
   "outputs": [
    {
     "output_type": "stream",
     "name": "stdout",
     "text": [
      "Collecting Optuna\n",
      "  Downloading optuna-3.6.1-py3-none-any.whl (380 kB)\n",
      "\u001B[2K     \u001B[90m━━━━━━━━━━━━━━━━━━━━━━━━━━━━━━━━━━━━━━━━\u001B[0m \u001B[32m380.1/380.1 kB\u001B[0m \u001B[31m6.9 MB/s\u001B[0m eta \u001B[36m0:00:00\u001B[0m\n",
      "\u001B[?25hCollecting alembic>=1.5.0 (from Optuna)\n",
      "  Downloading alembic-1.13.1-py3-none-any.whl (233 kB)\n",
      "\u001B[2K     \u001B[90m━━━━━━━━━━━━━━━━━━━━━━━━━━━━━━━━━━━━━━━━\u001B[0m \u001B[32m233.4/233.4 kB\u001B[0m \u001B[31m36.7 MB/s\u001B[0m eta \u001B[36m0:00:00\u001B[0m\n",
      "\u001B[?25hCollecting colorlog (from Optuna)\n",
      "  Downloading colorlog-6.8.2-py3-none-any.whl (11 kB)\n",
      "Requirement already satisfied: numpy in /usr/local/lib/python3.10/dist-packages (from Optuna) (1.25.2)\n",
      "Requirement already satisfied: packaging>=20.0 in /usr/local/lib/python3.10/dist-packages (from Optuna) (24.1)\n",
      "Requirement already satisfied: sqlalchemy>=1.3.0 in /usr/local/lib/python3.10/dist-packages (from Optuna) (2.0.30)\n",
      "Requirement already satisfied: tqdm in /usr/local/lib/python3.10/dist-packages (from Optuna) (4.66.4)\n",
      "Requirement already satisfied: PyYAML in /usr/local/lib/python3.10/dist-packages (from Optuna) (6.0.1)\n",
      "Collecting Mako (from alembic>=1.5.0->Optuna)\n",
      "  Downloading Mako-1.3.5-py3-none-any.whl (78 kB)\n",
      "\u001B[2K     \u001B[90m━━━━━━━━━━━━━━━━━━━━━━━━━━━━━━━━━━━━━━━━\u001B[0m \u001B[32m78.6/78.6 kB\u001B[0m \u001B[31m15.5 MB/s\u001B[0m eta \u001B[36m0:00:00\u001B[0m\n",
      "\u001B[?25hRequirement already satisfied: typing-extensions>=4 in /usr/local/lib/python3.10/dist-packages (from alembic>=1.5.0->Optuna) (4.12.2)\n",
      "Requirement already satisfied: greenlet!=0.4.17 in /usr/local/lib/python3.10/dist-packages (from sqlalchemy>=1.3.0->Optuna) (3.0.3)\n",
      "Requirement already satisfied: MarkupSafe>=0.9.2 in /usr/local/lib/python3.10/dist-packages (from Mako->alembic>=1.5.0->Optuna) (2.1.5)\n",
      "Installing collected packages: Mako, colorlog, alembic, Optuna\n",
      "Successfully installed Mako-1.3.5 Optuna-3.6.1 alembic-1.13.1 colorlog-6.8.2\n"
     ]
    }
   ],
   "source": [
    "!pip install Optuna\n"
   ]
  },
  {
   "cell_type": "code",
   "execution_count": 4,
   "metadata": {
    "colab": {
     "base_uri": "https://localhost:8080/"
    },
    "id": "0D39XepZOj3D",
    "outputId": "60b6dfd5-8ac7-430f-ceed-8d727ee7f631"
   },
   "outputs": [
    {
     "output_type": "stream",
     "name": "stdout",
     "text": [
      "Collecting textstat\n",
      "  Downloading textstat-0.7.3-py3-none-any.whl (105 kB)\n",
      "\u001B[2K     \u001B[90m━━━━━━━━━━━━━━━━━━━━━━━━━━━━━━━━━━━━━━━━\u001B[0m \u001B[32m105.1/105.1 kB\u001B[0m \u001B[31m2.7 MB/s\u001B[0m eta \u001B[36m0:00:00\u001B[0m\n",
      "\u001B[?25hCollecting pyphen (from textstat)\n",
      "  Downloading pyphen-0.15.0-py3-none-any.whl (2.1 MB)\n",
      "\u001B[2K     \u001B[90m━━━━━━━━━━━━━━━━━━━━━━━━━━━━━━━━━━━━━━━━\u001B[0m \u001B[32m2.1/2.1 MB\u001B[0m \u001B[31m31.6 MB/s\u001B[0m eta \u001B[36m0:00:00\u001B[0m\n",
      "\u001B[?25hInstalling collected packages: pyphen, textstat\n",
      "Successfully installed pyphen-0.15.0 textstat-0.7.3\n",
      "Collecting pyspellchecker\n",
      "  Downloading pyspellchecker-0.8.1-py3-none-any.whl (6.8 MB)\n",
      "\u001B[2K     \u001B[90m━━━━━━━━━━━━━━━━━━━━━━━━━━━━━━━━━━━━━━━━\u001B[0m \u001B[32m6.8/6.8 MB\u001B[0m \u001B[31m46.5 MB/s\u001B[0m eta \u001B[36m0:00:00\u001B[0m\n",
      "\u001B[?25hInstalling collected packages: pyspellchecker\n",
      "Successfully installed pyspellchecker-0.8.1\n"
     ]
    }
   ],
   "source": [
    "\n",
    "!pip install textstat\n",
    "!pip install pyspellchecker\n",
    "\n",
    "\n",
    "\n"
   ]
  },
  {
   "cell_type": "code",
   "execution_count": 5,
   "metadata": {
    "id": "OnNgSLKse9FB"
   },
   "outputs": [],
   "source": [
    "from collections import Counter\n",
    "import textstat\n",
    "from spellchecker import SpellChecker\n",
    "import pandas as pd\n",
    "from sklearn.model_selection import StratifiedKFold, train_test_split\n",
    "from huggingface_hub import HfFolder, Repository\n",
    "from sklearn.metrics import cohen_kappa_score\n",
    "from datasets import Dataset, get_dataset_config_names\n",
    "import polars as pl\n",
    "from sklearn.preprocessing import KBinsDiscretizer, MinMaxScaler\n",
    "import numpy as np\n",
    "from transformers import (AutoTokenizer,\n",
    "                          TrainingArguments,\n",
    "                          DataCollatorWithPadding,\n",
    "                          Trainer,\n",
    "                          AutoModelForSequenceClassification,\n",
    "                           EarlyStoppingCallback\n",
    "                          )\n",
    "import regex as re\n",
    "from sklearn.metrics import accuracy_score, f1_score\n",
    "import numpy as np\n",
    "from google.colab import userdata\n",
    "import ctypes, torch, gc, yaml,  joblib, spacy, multiprocessing, os, random, functools\n",
    "from sklearn.metrics import confusion_matrix, ConfusionMatrixDisplay\n",
    "import matplotlib.pyplot as plt\n",
    "from sklearn.metrics import classification_report\n",
    "import lightgbm as lgb\n",
    "import shap\n",
    "from sklearn.base import BaseEstimator, ClassifierMixin\n",
    "from lightgbm import LGBMRegressor\n",
    "from sklearn.base import BaseEstimator, RegressorMixin"
   ]
  },
  {
   "cell_type": "code",
   "execution_count": 6,
   "metadata": {
    "colab": {
     "base_uri": "https://localhost:8080/"
    },
    "id": "MBJJQk9PVs9w",
    "outputId": "77bf998d-0093-406f-e325-18ebfcf74456"
   },
   "outputs": [
    {
     "output_type": "stream",
     "name": "stdout",
     "text": [
      "cuda\n"
     ]
    }
   ],
   "source": [
    "key_ = userdata.get('HF_TOKEN')\n",
    "cuda_available = torch.cuda.is_available()\n",
    "device = torch.device(\"cuda\" if torch.cuda.is_available() else \"cpu\")\n",
    "print(device)\n",
    "train_path = '/content/drive/MyDrive/essay/data/train.csv'\n",
    "libc = ctypes.CDLL(\"libc.so.6\")"
   ]
  },
  {
   "cell_type": "code",
   "execution_count": 7,
   "metadata": {
    "id": "UiSS1kqYmJZk"
   },
   "outputs": [],
   "source": [
    "args_no = 0\n",
    "args = f'/content/drive/MyDrive/essay/args/args_{args_no}.yaml'\n",
    "\n",
    "with open(args, 'r') as file:\n",
    "  config = yaml.safe_load(file)\n"
   ]
  },
  {
   "cell_type": "code",
   "execution_count": 8,
   "metadata": {
    "id": "iHG5ynLMK7j8"
   },
   "outputs": [],
   "source": [
    "\n",
    "def clear_memory():\n",
    "    libc.malloc_trim(0)\n",
    "    torch.cuda.empty_cache()\n",
    "    gc.collect()\n",
    "\n"
   ]
  },
  {
   "cell_type": "markdown",
   "metadata": {
    "id": "G_QTcVLroL0T"
   },
   "source": []
  },
  {
   "cell_type": "code",
   "execution_count": 9,
   "metadata": {
    "id": "aVUEPBqe15yc"
   },
   "outputs": [],
   "source": [
    "lbl_mapping = { j: i for i, j in enumerate(config['lbl'])}\n",
    "\n",
    "\n",
    "df_full = (pl.scan_csv(train_path)\n",
    "        .with_columns(\n",
    "            score = pl.col('score')\n",
    "            .replace(lbl_mapping)\n",
    "        )\n",
    "      )\n"
   ]
  },
  {
   "cell_type": "markdown",
   "metadata": {
    "id": "tOG7XrAhI8tL"
   },
   "source": []
  },
  {
   "cell_type": "code",
   "execution_count": 10,
   "metadata": {
    "id": "Y22BBYngnWaM"
   },
   "outputs": [],
   "source": [
    "def initialize_seeds(seed):\n",
    "    torch.manual_seed(seed)\n",
    "    torch.cuda.manual_seed_all(seed)\n",
    "    np.random.seed(seed)\n",
    "    random.seed(seed)\n",
    "    torch.backends.cudnn.deterministic = True\n",
    "    torch.backends.cudnn.benchmark = False\n",
    "\n",
    "initialize_seeds(config['seed'])"
   ]
  },
  {
   "cell_type": "code",
   "execution_count": 11,
   "metadata": {
    "id": "GTZyEzgDmlnK"
   },
   "outputs": [],
   "source": [
    "\n",
    "\n",
    "class text_prep():\n",
    "  def __init__(self,\n",
    "               df,\n",
    "               tokenizer,\n",
    "               max_length = config['max_length'],\n",
    "               batch_size = config['batch_size'],\n",
    "               stride = config['stride']\n",
    "               ):\n",
    "\n",
    "    self.set_df(df)\n",
    "    self.tokenizer = tokenizer\n",
    "    self.max_length = max_length\n",
    "    self.batch_size  = batch_size\n",
    "    self.stride = stride\n",
    "\n",
    "  def tokenize_function(self, batch):\n",
    "    try:\n",
    "        input_ids = []\n",
    "        essay_id = []\n",
    "        attention_mask = []\n",
    "        full_text = []\n",
    "        score = []\n",
    "        txts = [self.preprocess_text(i) for i in batch['full_text']]\n",
    "\n",
    "        for count_id , txt in enumerate(txts):\n",
    "          tokenized = self.tokenizer(txt,\n",
    "                                    max_length=self.max_length,\n",
    "                                    return_overflowing_tokens = True,\n",
    "                                    stride = self.stride,\n",
    "                                    truncation=True\n",
    "                                    )\n",
    "\n",
    "\n",
    "          for count, input in enumerate(tokenized['input_ids']):\n",
    "            full_text.append(txt)\n",
    "            score.append(batch['score'][count_id])\n",
    "            essay_id.append(batch['essay_id'][count_id])\n",
    "            input_ids.append(input)\n",
    "            attention_mask.append(tokenized['attention_mask'][count])\n",
    "\n",
    "        return {\n",
    "            'essay_id': essay_id,\n",
    "            'input_ids': input_ids,\n",
    "            'attention_mask': attention_mask,\n",
    "            'full_text': full_text,\n",
    "            'score': score\n",
    "        }\n",
    "    except Exception as e:\n",
    "        print(f\"Error tokenizing batch: {batch}\")\n",
    "        raise e\n",
    "\n",
    "  def preprocess_text(self, text):\n",
    "    text = text.replace('\\xa0', ' ')\n",
    "    text = re.sub(r\"[^a-zA-Z0-9\\s,.'!?;:-]\", '', text)\n",
    "    text = re.sub(r\"\\s+\", \" \", text)\n",
    "    return text.strip()\n",
    "\n",
    "  def set_df(self, val):\n",
    "    if isinstance(val, Dataset):\n",
    "      self.df = val\n",
    "    elif isinstance(val, pl.DataFrame):\n",
    "      arrow_table = val.to_arrow()\n",
    "      self.df = Dataset(arrow_table)\n",
    "    else:\n",
    "      raise TypeError(\"Unsupported data\")\n",
    "\n",
    "\n",
    "\n",
    "  def fit_transform(self):\n",
    "     return (self.df.map(self.tokenize_function,\n",
    "                         num_proc=multiprocessing.cpu_count() -1,\n",
    "                         batched = True\n",
    "                         )\n",
    "                    .rename_column('score', 'labels')\n",
    "     )\n"
   ]
  },
  {
   "cell_type": "code",
   "execution_count": 12,
   "metadata": {
    "id": "ZMmJActCOQG7"
   },
   "outputs": [],
   "source": [
    "# change here\n",
    "def token_df(tokenizer, df_full):\n",
    "  df_sample = df_full.collect()\n",
    "  tp = text_prep(df_sample, tokenizer = tokenizer)\n",
    "  return tp.fit_transform()\n"
   ]
  },
  {
   "cell_type": "code",
   "execution_count": 12,
   "metadata": {
    "id": "oLgHzo1dvTLp"
   },
   "outputs": [],
   "source": [
    "\n",
    "\n"
   ]
  },
  {
   "cell_type": "code",
   "execution_count": 13,
   "metadata": {
    "id": "fqTkCWHGHD_R"
   },
   "outputs": [],
   "source": [
    "class PredictionProcess:\n",
    "    def __init__(self, best_model, pad_to_multiple_of, device, batch_size, tokenizer):\n",
    "        self.model = AutoModelForSequenceClassification.from_pretrained(best_model).to(device)\n",
    "        self.data_collator = DataCollatorWithPadding(tokenizer, pad_to_multiple_of=pad_to_multiple_of)\n",
    "        self.batch_size = batch_size\n",
    "        self.device = device\n",
    "\n",
    "\n",
    "    @staticmethod\n",
    "    def predict(batch, model, data_collator, device):\n",
    "        collated_batch = data_collator({k: batch[k]\n",
    "                                for k in batch\n",
    "                                if k in ['input_ids', 'attention_mask']}\n",
    "                              )\n",
    "\n",
    "        input_ids = collated_batch['input_ids'].to(device)\n",
    "        attention_mask = collated_batch['attention_mask'].to(device)\n",
    "\n",
    "        with torch.no_grad():\n",
    "            outputs = model(input_ids=input_ids, attention_mask=attention_mask)\n",
    "\n",
    "        pred_labels = outputs.logits.argmax(dim=-1).cpu().tolist()\n",
    "        return {'pred_labels': pred_labels, 'logits': outputs.logits.cpu().tolist()}\n",
    "\n",
    "\n",
    "    def _most_common(self, lst):\n",
    "        counts = Counter(lst)\n",
    "        max_frequency = max(counts.values())\n",
    "        return [e for e, c in counts.items() if c == max_frequency]\n",
    "\n",
    "\n",
    "    def _vote_pred(self, r):\n",
    "      lbl_agg = r['lbl_agg']\n",
    "      max_value_agg = r['max_value_agg']\n",
    "\n",
    "      if len(lbl_agg) > 1:\n",
    "        mc = self._most_common(lbl_agg)\n",
    "        val_dic = {}\n",
    "        data = list(zip(lbl_agg, max_value_agg))\n",
    "\n",
    "        if len(mc) > 1:\n",
    "          for i in mc:\n",
    "            val_dic[i] = max(val for lbl, val in data if i == lbl)\n",
    "        else:\n",
    "          val_dic[mc[0]] = max(val for lbl, val in data if mc[0] == lbl)\n",
    "\n",
    "        max_lbl = max(val_dic, key=val_dic.get)\n",
    "        return {'new_lbl': max_lbl, 'val': val_dic[max_lbl]}\n",
    "      else:\n",
    "        return {'new_lbl': lbl_agg[0], 'val': max_value_agg[0]}\n",
    "\n",
    "\n",
    "\n",
    "\n",
    "    def predict_dataset(self, dataset):\n",
    "        self.model.eval()\n",
    "        predict_partial = functools.partial(self.predict,\n",
    "                                  model=self.model,\n",
    "                                  data_collator=self.data_collator,\n",
    "                                  device=self.device\n",
    "                                  )\n",
    "        pred = dataset.map(\n",
    "            predict_partial,\n",
    "            batched=True,\n",
    "            batch_size=self.batch_size,\n",
    "            remove_columns=['input_ids', 'attention_mask']\n",
    "        )\n",
    "\n",
    "        clear_memory()\n",
    "\n",
    "        return (pred\n",
    "                .to_polars()\n",
    "                .unique(subset = 'essay_id')\n",
    "               )\n",
    "\n",
    "\n",
    "\n"
   ]
  },
  {
   "cell_type": "code",
   "execution_count": 14,
   "metadata": {
    "cellView": "code",
    "id": "gZtbpCL7N-tD"
   },
   "outputs": [],
   "source": [
    "class lgbClassifier(BaseEstimator, ClassifierMixin):\n",
    "    def __init__(self,\n",
    "                 lgbm_params,\n",
    "                 model_path,\n",
    "                 config,\n",
    "                 tokenizer,\n",
    "                 df_txt,\n",
    "                 device= device):\n",
    "\n",
    "        self.lgbm_params = lgbm_params\n",
    "        self.model_path = model_path\n",
    "        self.config = config\n",
    "        self.tokenizer = tokenizer\n",
    "        self.device = device\n",
    "        self.df_txt = df_txt\n",
    "\n",
    "    def _merge_txt(self, df_txt, pred_df):\n",
    "        return (df_txt.drop(['labels', 'input_ids', 'attention_mask']).join(\n",
    "            pred_df.with_columns(\n",
    "                lbl_temp=pl.struct('logits').map_elements(lambda f: {f'lbl_{i}': j for i, j in enumerate(f['logits'])})\n",
    "            ).unnest(['lbl_temp']).drop(['pred_labels', 'logits', 'full_text']),\n",
    "            on='essay_id'\n",
    "        ))\n",
    "\n",
    "    def _transformer_prediction(self, X):\n",
    "        predict = PredictionProcess(\n",
    "            best_model=self.model_path,\n",
    "            pad_to_multiple_of=self.config['pad_to_multiple_of'],\n",
    "            device=self.device,\n",
    "            batch_size=self.config['batch_size'],\n",
    "            tokenizer=self.tokenizer\n",
    "        )\n",
    "        return self._merge_txt(self.df_txt, predict.predict_dataset(X))\n",
    "\n",
    "\n",
    "    @staticmethod\n",
    "    def _qwk(y_true, y_pred):\n",
    "        y_pred = np.argmax(y_pred, axis=1)\n",
    "        return 'qwk', cohen_kappa_score(y_true, y_pred, weights='quadratic'), True\n",
    "\n",
    "\n",
    "\n",
    "\n",
    "    def fit(self, X, y, X_val=None, y_val=None):\n",
    "        self.early_stopping_callback = lgb.early_stopping(stopping_rounds=self.config['stopping_rounds'])\n",
    "        self.scaler = MinMaxScaler()\n",
    "        X_ = self._transformer_prediction(X)\n",
    "        X_  = X_.drop(['essay_id', 'labels']).to_pandas()\n",
    "\n",
    "        X_val_ = self._transformer_prediction(X_val)\n",
    "        X_val_  = X_val_.drop(['essay_id', 'labels']).to_pandas()\n",
    "\n",
    "\n",
    "        self.scaler.fit(X_)\n",
    "\n",
    "        X_ = self.scaler.transform(X_)\n",
    "        X_val_ = self.scaler.transform(X_val_)\n",
    "\n",
    "        self.model_lgbm = lgb.LGBMClassifier(**self.lgbm_params)\n",
    "        self.model_lgbm.fit(\n",
    "            X_,\n",
    "            y,\n",
    "            eval_set=[(X_, y), (X_val_, y_val)],\n",
    "            eval_metric=self._qwk,\n",
    "            callbacks=[self.early_stopping_callback]\n",
    "        )\n",
    "\n",
    "    def predict(self, X):\n",
    "        X_ = X\n",
    "        X_ = self._transformer_prediction(X_)\n",
    "\n",
    "        if 'essay_id' in X_.columns:\n",
    "          X_ = X_.drop('essay_id')\n",
    "\n",
    "        if 'labels' in X_.columns:\n",
    "          X_ = X_.drop('labels')\n",
    "\n",
    "        X_ = X_.to_pandas()\n",
    "\n",
    "\n",
    "        X_ = self.scaler.transform(X_)\n",
    "        return self.model_lgbm.predict(X_)\n"
   ]
  },
  {
   "cell_type": "code",
   "execution_count": 15,
   "metadata": {
    "id": "wo142QRaDzoZ"
   },
   "outputs": [],
   "source": [
    "\n",
    "spell = SpellChecker()\n",
    "\n",
    "def get_misspelled_words(text):\n",
    "    words = text.split()\n",
    "    misspelled = spell.unknown(words)\n",
    "    return len(list(misspelled))\n",
    "\n",
    "def calculate_readability_and_spelling(text):\n",
    "    flesch_kincaid = textstat.flesch_kincaid_grade(text)\n",
    "    gunning_fog = textstat.gunning_fog(text)\n",
    "    flesch_reading_ease = textstat.flesch_reading_ease(text)\n",
    "    difficult_words_count = textstat.difficult_words(text)\n",
    "    sentence_count = textstat.sentence_count(text)\n",
    "    alpine_score = textstat.mcalpine_eflaw(text)\n",
    "    word_count = len(text.split())\n",
    "    avg_sentence_length = word_count / sentence_count if sentence_count else 0\n",
    "    misspelled_words = get_misspelled_words(text)\n",
    "\n",
    "    return {\n",
    "        \"flesch_kincaid\": flesch_kincaid,\n",
    "        \"gunning_fog\": gunning_fog,\n",
    "        \"flesch_reading_ease\": flesch_reading_ease,\n",
    "        # \"difficult_words_count\": difficult_words_count,\n",
    "        \"sentence_count\": sentence_count,\n",
    "        # \"alpine_score\": alpine_score,\n",
    "        \"avg_sentence_length\": avg_sentence_length,\n",
    "        \"misspelled_words\": misspelled_words\n",
    "    }\n",
    "\n",
    "\n",
    "def merge_txt(df_txt, pred_df):\n",
    "    return (df_txt.drop(['labels','input_ids',\t'attention_mask']).join(\n",
    "        (pred_df\n",
    "        .with_columns(\n",
    "            lbl_temp = pl.struct('logits')\n",
    "            .map_elements(lambda f:{f'lbl_{i}':j for i, j in enumerate(f['logits'])} )\n",
    "        )\n",
    "        .unnest(['lbl_temp'])\n",
    "        .drop(['pred_labels', 'logits', 'full_text'])\n",
    "        )\n",
    "        ,on = 'essay_id'\n",
    "        )\n",
    "    )"
   ]
  },
  {
   "cell_type": "code",
   "execution_count": 16,
   "metadata": {
    "id": "oO2nXGpWi1rm"
   },
   "outputs": [],
   "source": [
    "\n",
    "\n",
    "essay_id = list(set(df_full.collect()['essay_id']))\n",
    "\n",
    "df_pd = (\n",
    "        df_full\n",
    "        .filter(pl.col('essay_id').is_in(essay_id))\n",
    "        .collect()\n",
    "        .to_pandas()\n",
    "       )\n"
   ]
  },
  {
   "cell_type": "code",
   "execution_count": null,
   "metadata": {
    "colab": {
     "background_save": true,
     "base_uri": "https://localhost:8080/",
     "height": 874,
     "referenced_widgets": [
      "bc6b772ac3bd4cb88821849d845aca06",
      "309c7d4bb05545a3aa37439f20eff5de",
      "170791c57ccf452a94375f7c6ffe6651",
      "4c1f8334587544b783c4665baaa4fcdd",
      "d9402d2367384d0ba8d3bec5208179ad",
      "565397047bef4444b8c9f2e5263e47f6",
      "5a5e41c458234fdc8125db71f4c93d7a",
      "7991784f45c34e708b63b26c9ef8b96c",
      "dba7991ee94549549e19bf4ecfa80bf1",
      "a9159a56c23f48c69975fadb575af9d4",
      "100899579f904a0591b5bb1318d4b270",
      "52d56e76349b4dcd92961e2436c45ad8",
      "ec0f353c5ddb4cd69d0a86f821131861",
      "1d0d86a32d30430683c42e038a73a194",
      "670ee97ab21a4115801a8ca712b71b3c",
      "577d8b9c242d4ddb8b3ae666b102aec9",
      "e01edfbb35b9423fb37b2a65832a0925",
      "a2f027d5d2fc4af7ae5abad9ed4e48de",
      "2ddab6552c404cd394da0abc791bb02a",
      "0b7127d07b5b47c4baaf5aca118d7159",
      "8c6b63763cc64d3794dd401cf790b2e7",
      "94c0426826884a3ab97b11dd65c0b50e",
      "b1aaa21e0a65479a8a71b920cd54a3ae",
      "a66e263eefc14b728027740cb818128b",
      "c2e8e18359ed4ebdb14fa91d33209eca",
      "6091b48d2bb941c5ad706212dde4c58d",
      "862df7efeadf4319b8a589b3adc37ac0",
      "eaef95d8ea284238b5e3dbdeaa41f09a",
      "4bf8747aba4a4993b3e3c5c3623dfa09",
      "ad49f4b7a1684feb8c09a2a9125cd356",
      "89cb90c2e42c4a46b1f65a7662e9f1c9",
      "dfcab640fc664b98804da5005fb39e4d",
      "bfa86312d3344671ad8e843ff57080fe",
      "4865cdc748724b4eac799c86b4b0ebc8",
      "c3bf36af98ac4b56b78d224d8fdae78e",
      "3b3174f7e10d4f4ebd40fc59d115ff17",
      "03bd0b8ff907444c86f0a31fb3e1f496",
      "84ab3acbb399471ebfecf5a9b61bf399",
      "d98ccca4448843e1a1e460cbc90e84d5",
      "05e161cce6c84793acb4cbb916248c16",
      "af287bd852244138ad5f4222b8d4fe1a",
      "afe3495542c949c887c7c64d0e6a498e",
      "f138a3235d9d4b1e8990b983ea8ce257",
      "f994942208d74d4e890aa349f0f17547",
      "2091a6f8eb924c9db9a1445013cdc9f5",
      "9844aea185c24ebd877da1fc3db4afe4",
      "a6ecdaf20aa24c28ad114734c18b30be",
      "dabe968a21e94bb3b9061513a8de8ef7",
      "257fe7bef314461ab1dec5012a0f48d7",
      "3532e0c8bd0b43d497518951c313c2f1",
      "ed900bd0f46444348e412c221b734c60",
      "54af7178f7654b38b37d6c62e0a313f3",
      "700147cba4334953afefc0936d9d11ed",
      "377c267065e84799b8640c39fda135a0",
      "8c33d6efbbca44829114ab72d2292361",
      "55aecc9c00ff480b9546e55202fbabc2",
      "28ae3cfd85834b00b06880b9669e7b45",
      "bb625e883a864dd698fb67bbd339e616",
      "feb96fe5b7704cac8299423c3ac03a12",
      "55cae494234d413786caba70b4d78a35",
      "b42120687be74e23be01448c4308a5b3",
      "4673257b54024199bae9ba60a110cbce",
      "1e2b025eb7244bd1b0497e3a9c457469",
      "a2c1de93ae704dca93b360191ac34552",
      "ee47f9a7378f47df8b6001325099c82f",
      "ea7c8e987c4c4b0faba7357797835905",
      "deba461bae2944dbb58935a69b2a914b",
      "dd30fdf6ce654ea68f9092824aa383da",
      "e2408d71f5e447bcbf3b3a31960872a5",
      "326f9853861949c985629e3bea52a04a",
      "bee1c658fc3746578953c5ad4beb5874",
      "15ffa94efdc549bd8bf38a795f472ae7",
      "507b4e9947af4a458771eb9c2b5d2de7",
      "f7d6f751451c4debab72f7e92ba7f801",
      "d77b4322a69e4f218e8aa8c90e8be114",
      "4825cb79e6b042a199fb6fdc7a9842e4",
      "86397ece218a4c9494067b71aa8ca2c2",
      "11be66a43dfa414e999cf13506042803",
      "38f26a53247e48f4b86f24497901a663",
      "507bf15efa0b4f15bb7996d58777764d",
      "d89779db423146d991dfc82c3a8e2333",
      "d7ae2ab17eed43629771bcaa50755738",
      "50eb9e2ffff84d78ba1629de6336173b",
      "d41ad69401e34f24afd150b7a53c0ff0",
      "11ca947320e940f39f1b190206890bc7",
      "a801c5fd06c5405fb60b5a0bf041ba96",
      "d2c99e126c0542b0a05fdd8811695697",
      "eba4b0a76cf140ed95fcce9563c843cd",
      "bbc9852a69f34ead83175aecef0416e8"
     ]
    },
    "id": "5FQjJsuVQd4R",
    "outputId": "3ff26372-ff81-404c-8d94-4f22b173dcbc"
   },
   "outputs": [
    {
     "name": "stdout",
     "output_type": "stream",
     "text": [
      "fold number: 0\n"
     ]
    },
    {
     "name": "stderr",
     "output_type": "stream",
     "text": [
      "/usr/local/lib/python3.10/dist-packages/multiprocess/popen_fork.py:66: RuntimeWarning: os.fork() was called. os.fork() is incompatible with multithreaded code, and JAX is multithreaded, so this will likely lead to a deadlock.\n",
      "  self.pid = os.fork()\n"
     ]
    },
    {
     "data": {
      "application/vnd.jupyter.widget-view+json": {
       "model_id": "bc6b772ac3bd4cb88821849d845aca06",
       "version_major": 2,
       "version_minor": 0
      },
      "text/plain": [
       "Map (num_proc=7):   0%|          | 0/17307 [00:00<?, ? examples/s]"
      ]
     },
     "metadata": {},
     "output_type": "display_data"
    },
    {
     "data": {
      "application/vnd.jupyter.widget-view+json": {
       "model_id": "52d56e76349b4dcd92961e2436c45ad8",
       "version_major": 2,
       "version_minor": 0
      },
      "text/plain": [
       "Filter:   0%|          | 0/17307 [00:00<?, ? examples/s]"
      ]
     },
     "metadata": {},
     "output_type": "display_data"
    },
    {
     "data": {
      "application/vnd.jupyter.widget-view+json": {
       "model_id": "b1aaa21e0a65479a8a71b920cd54a3ae",
       "version_major": 2,
       "version_minor": 0
      },
      "text/plain": [
       "Filter:   0%|          | 0/17307 [00:00<?, ? examples/s]"
      ]
     },
     "metadata": {},
     "output_type": "display_data"
    },
    {
     "data": {
      "application/vnd.jupyter.widget-view+json": {
       "model_id": "4865cdc748724b4eac799c86b4b0ebc8",
       "version_major": 2,
       "version_minor": 0
      },
      "text/plain": [
       "Filter:   0%|          | 0/17307 [00:00<?, ? examples/s]"
      ]
     },
     "metadata": {},
     "output_type": "display_data"
    },
    {
     "data": {
      "application/vnd.jupyter.widget-view+json": {
       "model_id": "2091a6f8eb924c9db9a1445013cdc9f5",
       "version_major": 2,
       "version_minor": 0
      },
      "text/plain": [
       "Map:   0%|          | 0/11076 [00:00<?, ? examples/s]"
      ]
     },
     "metadata": {},
     "output_type": "display_data"
    },
    {
     "data": {
      "application/vnd.jupyter.widget-view+json": {
       "model_id": "55aecc9c00ff480b9546e55202fbabc2",
       "version_major": 2,
       "version_minor": 0
      },
      "text/plain": [
       "Map:   0%|          | 0/2769 [00:00<?, ? examples/s]"
      ]
     },
     "metadata": {},
     "output_type": "display_data"
    },
    {
     "name": "stdout",
     "output_type": "stream",
     "text": [
      "[LightGBM] [Warning] num_class is set=6, num_class=6 will be ignored. Current value: num_class=6\n",
      "[LightGBM] [Warning] num_class is set=6, num_class=6 will be ignored. Current value: num_class=6\n",
      "[LightGBM] [Info] Auto-choosing col-wise multi-threading, the overhead of testing was 0.000698 seconds.\n",
      "You can set `force_col_wise=true` to remove the overhead.\n",
      "[LightGBM] [Info] Total Bins 2719\n",
      "[LightGBM] [Info] Number of data points in the train set: 11076, number of used features: 12\n",
      "[LightGBM] [Warning] num_class is set=6, num_class=6 will be ignored. Current value: num_class=6\n",
      "[LightGBM] [Info] Start training from score -2.625427\n",
      "[LightGBM] [Info] Start training from score -1.309842\n",
      "[LightGBM] [Info] Start training from score -1.012753\n",
      "[LightGBM] [Info] Start training from score -1.479332\n",
      "[LightGBM] [Info] Start training from score -2.854198\n",
      "[LightGBM] [Info] Start training from score -4.697415\n",
      "[LightGBM] [Warning] No further splits with positive gain, best gain: -inf\n",
      "Training until validation scores don't improve for 10 rounds\n",
      "Early stopping, best iteration is:\n",
      "[8]\ttraining's multi_logloss: 0.477924\ttraining's qwk: 0.950646\tvalid_1's multi_logloss: 1.03433\tvalid_1's qwk: 0.785773\n"
     ]
    },
    {
     "data": {
      "application/vnd.jupyter.widget-view+json": {
       "model_id": "28ae3cfd85834b00b06880b9669e7b45",
       "version_major": 2,
       "version_minor": 0
      },
      "text/plain": [
       "Map:   0%|          | 0/3462 [00:00<?, ? examples/s]"
      ]
     },
     "metadata": {},
     "output_type": "display_data"
    },
    {
     "name": "stdout",
     "output_type": "stream",
     "text": [
      "[LightGBM] [Warning] num_class is set=6, num_class=6 will be ignored. Current value: num_class=6\n",
      "0:qwk_score_lgbtm:  0.7981664727472724\n",
      "fold number: 1\n"
     ]
    },
    {
     "data": {
      "application/vnd.jupyter.widget-view+json": {
       "model_id": "bb625e883a864dd698fb67bbd339e616",
       "version_major": 2,
       "version_minor": 0
      },
      "text/plain": [
       "Filter:   0%|          | 0/17307 [00:00<?, ? examples/s]"
      ]
     },
     "metadata": {},
     "output_type": "display_data"
    },
    {
     "data": {
      "application/vnd.jupyter.widget-view+json": {
       "model_id": "feb96fe5b7704cac8299423c3ac03a12",
       "version_major": 2,
       "version_minor": 0
      },
      "text/plain": [
       "Filter:   0%|          | 0/17307 [00:00<?, ? examples/s]"
      ]
     },
     "metadata": {},
     "output_type": "display_data"
    },
    {
     "data": {
      "application/vnd.jupyter.widget-view+json": {
       "model_id": "55cae494234d413786caba70b4d78a35",
       "version_major": 2,
       "version_minor": 0
      },
      "text/plain": [
       "Filter:   0%|          | 0/17307 [00:00<?, ? examples/s]"
      ]
     },
     "metadata": {},
     "output_type": "display_data"
    },
    {
     "data": {
      "application/vnd.jupyter.widget-view+json": {
       "model_id": "b42120687be74e23be01448c4308a5b3",
       "version_major": 2,
       "version_minor": 0
      },
      "text/plain": [
       "config.json:   0%|          | 0.00/1.15k [00:00<?, ?B/s]"
      ]
     },
     "metadata": {},
     "output_type": "display_data"
    },
    {
     "data": {
      "application/vnd.jupyter.widget-view+json": {
       "model_id": "4673257b54024199bae9ba60a110cbce",
       "version_major": 2,
       "version_minor": 0
      },
      "text/plain": [
       "model.safetensors:   0%|          | 0.00/568M [00:00<?, ?B/s]"
      ]
     },
     "metadata": {},
     "output_type": "display_data"
    },
    {
     "data": {
      "application/vnd.jupyter.widget-view+json": {
       "model_id": "1e2b025eb7244bd1b0497e3a9c457469",
       "version_major": 2,
       "version_minor": 0
      },
      "text/plain": [
       "Map:   0%|          | 0/11076 [00:00<?, ? examples/s]"
      ]
     },
     "metadata": {},
     "output_type": "display_data"
    },
    {
     "data": {
      "application/vnd.jupyter.widget-view+json": {
       "model_id": "a2c1de93ae704dca93b360191ac34552",
       "version_major": 2,
       "version_minor": 0
      },
      "text/plain": [
       "Map:   0%|          | 0/2769 [00:00<?, ? examples/s]"
      ]
     },
     "metadata": {},
     "output_type": "display_data"
    },
    {
     "name": "stdout",
     "output_type": "stream",
     "text": [
      "[LightGBM] [Warning] num_class is set=6, num_class=6 will be ignored. Current value: num_class=6\n",
      "[LightGBM] [Warning] num_class is set=6, num_class=6 will be ignored. Current value: num_class=6\n",
      "[LightGBM] [Info] Auto-choosing col-wise multi-threading, the overhead of testing was 0.000497 seconds.\n",
      "You can set `force_col_wise=true` to remove the overhead.\n",
      "[LightGBM] [Info] Total Bins 2717\n",
      "[LightGBM] [Info] Number of data points in the train set: 11076, number of used features: 12\n",
      "[LightGBM] [Warning] num_class is set=6, num_class=6 will be ignored. Current value: num_class=6\n",
      "[LightGBM] [Info] Start training from score -2.608122\n",
      "[LightGBM] [Info] Start training from score -1.293910\n",
      "[LightGBM] [Info] Start training from score -1.024253\n",
      "[LightGBM] [Info] Start training from score -1.473404\n",
      "[LightGBM] [Info] Start training from score -2.907307\n",
      "[LightGBM] [Info] Start training from score -4.677807\n",
      "[LightGBM] [Warning] No further splits with positive gain, best gain: -inf\n",
      "Training until validation scores don't improve for 10 rounds\n",
      "Early stopping, best iteration is:\n",
      "[19]\ttraining's multi_logloss: 0.540171\ttraining's qwk: 0.892621\tvalid_1's multi_logloss: 0.902526\tvalid_1's qwk: 0.793775\n"
     ]
    },
    {
     "data": {
      "application/vnd.jupyter.widget-view+json": {
       "model_id": "ee47f9a7378f47df8b6001325099c82f",
       "version_major": 2,
       "version_minor": 0
      },
      "text/plain": [
       "Map:   0%|          | 0/3462 [00:00<?, ? examples/s]"
      ]
     },
     "metadata": {},
     "output_type": "display_data"
    },
    {
     "name": "stdout",
     "output_type": "stream",
     "text": [
      "[LightGBM] [Warning] num_class is set=6, num_class=6 will be ignored. Current value: num_class=6\n",
      "1:qwk_score_lgbtm:  0.8059959150695792\n",
      "fold number: 2\n"
     ]
    },
    {
     "data": {
      "application/vnd.jupyter.widget-view+json": {
       "model_id": "ea7c8e987c4c4b0faba7357797835905",
       "version_major": 2,
       "version_minor": 0
      },
      "text/plain": [
       "Filter:   0%|          | 0/17307 [00:00<?, ? examples/s]"
      ]
     },
     "metadata": {},
     "output_type": "display_data"
    },
    {
     "data": {
      "application/vnd.jupyter.widget-view+json": {
       "model_id": "deba461bae2944dbb58935a69b2a914b",
       "version_major": 2,
       "version_minor": 0
      },
      "text/plain": [
       "Filter:   0%|          | 0/17307 [00:00<?, ? examples/s]"
      ]
     },
     "metadata": {},
     "output_type": "display_data"
    },
    {
     "data": {
      "application/vnd.jupyter.widget-view+json": {
       "model_id": "dd30fdf6ce654ea68f9092824aa383da",
       "version_major": 2,
       "version_minor": 0
      },
      "text/plain": [
       "Filter:   0%|          | 0/17307 [00:00<?, ? examples/s]"
      ]
     },
     "metadata": {},
     "output_type": "display_data"
    },
    {
     "data": {
      "application/vnd.jupyter.widget-view+json": {
       "model_id": "e2408d71f5e447bcbf3b3a31960872a5",
       "version_major": 2,
       "version_minor": 0
      },
      "text/plain": [
       "config.json:   0%|          | 0.00/1.15k [00:00<?, ?B/s]"
      ]
     },
     "metadata": {},
     "output_type": "display_data"
    },
    {
     "data": {
      "application/vnd.jupyter.widget-view+json": {
       "model_id": "326f9853861949c985629e3bea52a04a",
       "version_major": 2,
       "version_minor": 0
      },
      "text/plain": [
       "model.safetensors:   0%|          | 0.00/568M [00:00<?, ?B/s]"
      ]
     },
     "metadata": {},
     "output_type": "display_data"
    },
    {
     "data": {
      "application/vnd.jupyter.widget-view+json": {
       "model_id": "bee1c658fc3746578953c5ad4beb5874",
       "version_major": 2,
       "version_minor": 0
      },
      "text/plain": [
       "Map:   0%|          | 0/11076 [00:00<?, ? examples/s]"
      ]
     },
     "metadata": {},
     "output_type": "display_data"
    },
    {
     "data": {
      "application/vnd.jupyter.widget-view+json": {
       "model_id": "15ffa94efdc549bd8bf38a795f472ae7",
       "version_major": 2,
       "version_minor": 0
      },
      "text/plain": [
       "Map:   0%|          | 0/2770 [00:00<?, ? examples/s]"
      ]
     },
     "metadata": {},
     "output_type": "display_data"
    },
    {
     "name": "stdout",
     "output_type": "stream",
     "text": [
      "[LightGBM] [Warning] num_class is set=6, num_class=6 will be ignored. Current value: num_class=6\n",
      "[LightGBM] [Warning] num_class is set=6, num_class=6 will be ignored. Current value: num_class=6\n",
      "[LightGBM] [Info] Auto-choosing col-wise multi-threading, the overhead of testing was 0.000723 seconds.\n",
      "You can set `force_col_wise=true` to remove the overhead.\n",
      "[LightGBM] [Info] Total Bins 2725\n",
      "[LightGBM] [Info] Number of data points in the train set: 11076, number of used features: 12\n",
      "[LightGBM] [Warning] num_class is set=6, num_class=6 will be ignored. Current value: num_class=6\n",
      "[LightGBM] [Info] Start training from score -2.645579\n",
      "[LightGBM] [Info] Start training from score -1.302176\n",
      "[LightGBM] [Info] Start training from score -1.017986\n",
      "[LightGBM] [Info] Start training from score -1.470257\n",
      "[LightGBM] [Info] Start training from score -2.873186\n",
      "[LightGBM] [Info] Start training from score -4.668145\n",
      "[LightGBM] [Warning] No further splits with positive gain, best gain: -inf\n",
      "Training until validation scores don't improve for 10 rounds\n",
      "Early stopping, best iteration is:\n",
      "[7]\ttraining's multi_logloss: 0.595044\ttraining's qwk: 0.930795\tvalid_1's multi_logloss: 1.00787\tvalid_1's qwk: 0.791703\n"
     ]
    },
    {
     "data": {
      "application/vnd.jupyter.widget-view+json": {
       "model_id": "507b4e9947af4a458771eb9c2b5d2de7",
       "version_major": 2,
       "version_minor": 0
      },
      "text/plain": [
       "Map:   0%|          | 0/3461 [00:00<?, ? examples/s]"
      ]
     },
     "metadata": {},
     "output_type": "display_data"
    },
    {
     "name": "stdout",
     "output_type": "stream",
     "text": [
      "[LightGBM] [Warning] num_class is set=6, num_class=6 will be ignored. Current value: num_class=6\n",
      "2:qwk_score_lgbtm:  0.7911256262904904\n",
      "fold number: 3\n"
     ]
    },
    {
     "data": {
      "application/vnd.jupyter.widget-view+json": {
       "model_id": "f7d6f751451c4debab72f7e92ba7f801",
       "version_major": 2,
       "version_minor": 0
      },
      "text/plain": [
       "Filter:   0%|          | 0/17307 [00:00<?, ? examples/s]"
      ]
     },
     "metadata": {},
     "output_type": "display_data"
    },
    {
     "data": {
      "application/vnd.jupyter.widget-view+json": {
       "model_id": "d77b4322a69e4f218e8aa8c90e8be114",
       "version_major": 2,
       "version_minor": 0
      },
      "text/plain": [
       "Filter:   0%|          | 0/17307 [00:00<?, ? examples/s]"
      ]
     },
     "metadata": {},
     "output_type": "display_data"
    },
    {
     "data": {
      "application/vnd.jupyter.widget-view+json": {
       "model_id": "4825cb79e6b042a199fb6fdc7a9842e4",
       "version_major": 2,
       "version_minor": 0
      },
      "text/plain": [
       "Filter:   0%|          | 0/17307 [00:00<?, ? examples/s]"
      ]
     },
     "metadata": {},
     "output_type": "display_data"
    },
    {
     "data": {
      "application/vnd.jupyter.widget-view+json": {
       "model_id": "86397ece218a4c9494067b71aa8ca2c2",
       "version_major": 2,
       "version_minor": 0
      },
      "text/plain": [
       "config.json:   0%|          | 0.00/1.15k [00:00<?, ?B/s]"
      ]
     },
     "metadata": {},
     "output_type": "display_data"
    },
    {
     "data": {
      "application/vnd.jupyter.widget-view+json": {
       "model_id": "11be66a43dfa414e999cf13506042803",
       "version_major": 2,
       "version_minor": 0
      },
      "text/plain": [
       "model.safetensors:   0%|          | 0.00/568M [00:00<?, ?B/s]"
      ]
     },
     "metadata": {},
     "output_type": "display_data"
    },
    {
     "data": {
      "application/vnd.jupyter.widget-view+json": {
       "model_id": "38f26a53247e48f4b86f24497901a663",
       "version_major": 2,
       "version_minor": 0
      },
      "text/plain": [
       "Map:   0%|          | 0/11076 [00:00<?, ? examples/s]"
      ]
     },
     "metadata": {},
     "output_type": "display_data"
    },
    {
     "data": {
      "application/vnd.jupyter.widget-view+json": {
       "model_id": "507bf15efa0b4f15bb7996d58777764d",
       "version_major": 2,
       "version_minor": 0
      },
      "text/plain": [
       "Map:   0%|          | 0/2770 [00:00<?, ? examples/s]"
      ]
     },
     "metadata": {},
     "output_type": "display_data"
    },
    {
     "name": "stdout",
     "output_type": "stream",
     "text": [
      "[LightGBM] [Warning] num_class is set=6, num_class=6 will be ignored. Current value: num_class=6\n",
      "[LightGBM] [Warning] num_class is set=6, num_class=6 will be ignored. Current value: num_class=6\n",
      "[LightGBM] [Info] Auto-choosing col-wise multi-threading, the overhead of testing was 0.000799 seconds.\n",
      "You can set `force_col_wise=true` to remove the overhead.\n",
      "[LightGBM] [Info] Total Bins 2720\n",
      "[LightGBM] [Info] Number of data points in the train set: 11076, number of used features: 12\n",
      "[LightGBM] [Warning] num_class is set=6, num_class=6 will be ignored. Current value: num_class=6\n",
      "[LightGBM] [Info] Start training from score -2.609348\n",
      "[LightGBM] [Info] Start training from score -1.287019\n",
      "[LightGBM] [Info] Start training from score -1.018486\n",
      "[LightGBM] [Info] Start training from score -1.492096\n",
      "[LightGBM] [Info] Start training from score -2.886047\n",
      "[LightGBM] [Info] Start training from score -4.769241\n",
      "[LightGBM] [Warning] No further splits with positive gain, best gain: -inf\n",
      "Training until validation scores don't improve for 10 rounds\n",
      "Early stopping, best iteration is:\n",
      "[8]\ttraining's multi_logloss: 0.490104\ttraining's qwk: 0.947114\tvalid_1's multi_logloss: 1.0195\tvalid_1's qwk: 0.794229\n"
     ]
    },
    {
     "data": {
      "application/vnd.jupyter.widget-view+json": {
       "model_id": "d89779db423146d991dfc82c3a8e2333",
       "version_major": 2,
       "version_minor": 0
      },
      "text/plain": [
       "Map:   0%|          | 0/3461 [00:00<?, ? examples/s]"
      ]
     },
     "metadata": {},
     "output_type": "display_data"
    },
    {
     "name": "stdout",
     "output_type": "stream",
     "text": [
      "[LightGBM] [Warning] num_class is set=6, num_class=6 will be ignored. Current value: num_class=6\n",
      "3:qwk_score_lgbtm:  0.7933641577925603\n",
      "fold number: 4\n"
     ]
    },
    {
     "data": {
      "application/vnd.jupyter.widget-view+json": {
       "model_id": "d7ae2ab17eed43629771bcaa50755738",
       "version_major": 2,
       "version_minor": 0
      },
      "text/plain": [
       "Filter:   0%|          | 0/17307 [00:00<?, ? examples/s]"
      ]
     },
     "metadata": {},
     "output_type": "display_data"
    },
    {
     "data": {
      "application/vnd.jupyter.widget-view+json": {
       "model_id": "50eb9e2ffff84d78ba1629de6336173b",
       "version_major": 2,
       "version_minor": 0
      },
      "text/plain": [
       "Filter:   0%|          | 0/17307 [00:00<?, ? examples/s]"
      ]
     },
     "metadata": {},
     "output_type": "display_data"
    },
    {
     "data": {
      "application/vnd.jupyter.widget-view+json": {
       "model_id": "d41ad69401e34f24afd150b7a53c0ff0",
       "version_major": 2,
       "version_minor": 0
      },
      "text/plain": [
       "Filter:   0%|          | 0/17307 [00:00<?, ? examples/s]"
      ]
     },
     "metadata": {},
     "output_type": "display_data"
    },
    {
     "data": {
      "application/vnd.jupyter.widget-view+json": {
       "model_id": "11ca947320e940f39f1b190206890bc7",
       "version_major": 2,
       "version_minor": 0
      },
      "text/plain": [
       "config.json:   0%|          | 0.00/1.15k [00:00<?, ?B/s]"
      ]
     },
     "metadata": {},
     "output_type": "display_data"
    },
    {
     "data": {
      "application/vnd.jupyter.widget-view+json": {
       "model_id": "a801c5fd06c5405fb60b5a0bf041ba96",
       "version_major": 2,
       "version_minor": 0
      },
      "text/plain": [
       "model.safetensors:   0%|          | 0.00/568M [00:00<?, ?B/s]"
      ]
     },
     "metadata": {},
     "output_type": "display_data"
    },
    {
     "data": {
      "application/vnd.jupyter.widget-view+json": {
       "model_id": "d2c99e126c0542b0a05fdd8811695697",
       "version_major": 2,
       "version_minor": 0
      },
      "text/plain": [
       "Map:   0%|          | 0/11076 [00:00<?, ? examples/s]"
      ]
     },
     "metadata": {},
     "output_type": "display_data"
    },
    {
     "data": {
      "application/vnd.jupyter.widget-view+json": {
       "model_id": "eba4b0a76cf140ed95fcce9563c843cd",
       "version_major": 2,
       "version_minor": 0
      },
      "text/plain": [
       "Map:   0%|          | 0/2770 [00:00<?, ? examples/s]"
      ]
     },
     "metadata": {},
     "output_type": "display_data"
    },
    {
     "name": "stdout",
     "output_type": "stream",
     "text": [
      "[LightGBM] [Warning] num_class is set=6, num_class=6 will be ignored. Current value: num_class=6\n",
      "[LightGBM] [Warning] num_class is set=6, num_class=6 will be ignored. Current value: num_class=6\n",
      "[LightGBM] [Info] Auto-choosing col-wise multi-threading, the overhead of testing was 0.000775 seconds.\n",
      "You can set `force_col_wise=true` to remove the overhead.\n",
      "[LightGBM] [Info] Total Bins 2714\n",
      "[LightGBM] [Info] Number of data points in the train set: 11076, number of used features: 12\n",
      "[LightGBM] [Warning] num_class is set=6, num_class=6 will be ignored. Current value: num_class=6\n",
      "[LightGBM] [Info] Start training from score -2.640503\n",
      "[LightGBM] [Info] Start training from score -1.297870\n",
      "[LightGBM] [Info] Start training from score -1.006558\n",
      "[LightGBM] [Info] Start training from score -1.497732\n",
      "[LightGBM] [Info] Start training from score -2.871589\n",
      "[LightGBM] [Info] Start training from score -4.621188\n",
      "[LightGBM] [Warning] No further splits with positive gain, best gain: -inf\n",
      "Training until validation scores don't improve for 10 rounds\n",
      "Early stopping, best iteration is:\n",
      "[8]\ttraining's multi_logloss: 0.471197\ttraining's qwk: 0.949333\tvalid_1's multi_logloss: 1.03345\tvalid_1's qwk: 0.789861\n"
     ]
    },
    {
     "data": {
      "application/vnd.jupyter.widget-view+json": {
       "model_id": "bbc9852a69f34ead83175aecef0416e8",
       "version_major": 2,
       "version_minor": 0
      },
      "text/plain": [
       "Map:   0%|          | 0/3461 [00:00<?, ? examples/s]"
      ]
     },
     "metadata": {},
     "output_type": "display_data"
    },
    {
     "name": "stdout",
     "output_type": "stream",
     "text": [
      "[LightGBM] [Warning] num_class is set=6, num_class=6 will be ignored. Current value: num_class=6\n",
      "4:qwk_score_lgbtm:  0.7943525649652072\n"
     ]
    }
   ],
   "source": [
    "early_stopping_callback = lgb.early_stopping(stopping_rounds=config['stopping_rounds'])\n",
    "\n",
    "model_dic_score={}\n",
    "\n",
    "stratified_kfold = StratifiedKFold(n_splits=config['num_folds'], shuffle=True, random_state=config['seed'])\n",
    "for fold, (train_index, test_index) in enumerate(stratified_kfold.split(df_pd, df_pd['score'])):\n",
    "\n",
    "    print(f'fold number: {fold}')\n",
    "    model_path = f\"{config['best_model']}{args_no}_{config['base_model']}_{fold}\"\n",
    "    if fold == 0:\n",
    "      tokenizer = AutoTokenizer.from_pretrained(model_path)\n",
    "      df = token_df(tokenizer, df_full)\n",
    "\n",
    "      df_txt = (df\n",
    "           .to_polars()\n",
    "            .with_columns(\n",
    "                txt_meta = pl.col('full_text')\n",
    "                .map_elements(calculate_readability_and_spelling)\n",
    "            )\n",
    "            .unnest(['txt_meta'])\n",
    "            .drop([ 'full_text'])\n",
    "      )\n",
    "\n",
    "    train_index, val_index = train_test_split(train_index, test_size=0.2, random_state=config['seed'])\n",
    "    x_train_ =  df.filter(lambda f: f['essay_id'] in df_pd.iloc[train_index].loc[:, 'essay_id'].to_list())\n",
    "    x_vali_ =  df.filter(lambda f: f['essay_id'] in df_pd.iloc[val_index].loc[:, 'essay_id'].to_list())\n",
    "    x_test_ = df.filter(lambda f: f['essay_id'] in df_pd.iloc[test_index].loc[:, 'essay_id'].to_list())\n",
    "\n",
    "\n",
    "\n",
    "    y_train = np.array(x_train_['labels'])\n",
    "    y_vali = np.array(x_vali_['labels'])\n",
    "    y_test  = np.array(x_test_['labels'])\n",
    "\n",
    "\n",
    "    model_reg = lgbClassifier(\n",
    "            lgbm_params = config['params'],\n",
    "            model_path = model_path,\n",
    "            config = config,\n",
    "            tokenizer = tokenizer,\n",
    "            df_txt = df_txt,\n",
    "    )\n",
    "\n",
    "    model_reg.fit(x_train_, y_train, x_vali_, y_vali)\n",
    "    joblib.dump(model_reg, f\"{config['args_path']}/combine_model_{fold}.pkl\")\n",
    "\n",
    "\n",
    "    y_pred = model_reg.predict(x_test_)\n",
    "    qwk_score_lgbtm = cohen_kappa_score(y_test, y_pred, weights='quadratic')\n",
    "    print(f'{fold}:qwk_score_lgbtm:  {qwk_score_lgbtm }')\n",
    "\n",
    "    model_dic_score[fold] = {'score':qwk_score_lgbtm ,\n",
    "                             'y_test': y_test,\n",
    "                             'y_pred': y_pred,\n",
    "                             'test_data': x_test_.to_polars()\n",
    "                             }\n",
    "\n",
    "\n",
    "    clear_memory()\n"
   ]
  },
  {
   "cell_type": "code",
   "execution_count": 17,
   "metadata": {
    "id": "jTMHlkYaZxPI"
   },
   "outputs": [],
   "source": [
    "# joblib.dump(model_dic_score, f\"{config['args_path']}/model_combine_score_dict.pkl\")\n",
    "\n",
    "\n",
    "scores_df = joblib.load(f\"{config['args_path']}/model_combine_score_dict.pkl\")"
   ]
  },
  {
   "cell_type": "code",
   "source": [],
   "metadata": {
    "colab": {
     "base_uri": "https://localhost:8080/"
    },
    "id": "tSXTuy2m5prg",
    "outputId": "cf3eddfc-49fa-47b1-840a-b7474e7d9ff3"
   },
   "execution_count": 18,
   "outputs": [
    {
     "output_type": "execute_result",
     "data": {
      "text/plain": [
       "0.7966009473730219"
      ]
     },
     "metadata": {},
     "execution_count": 18
    }
   ]
  },
  {
   "cell_type": "code",
   "source": [
    "\n",
    "np.mean([nest['score'] for i, nest in scores_df.items()])"
   ],
   "metadata": {
    "id": "suX8zl6T5sxB"
   },
   "execution_count": 18,
   "outputs": []
  },
  {
   "cell_type": "code",
   "source": [
    "def class_report(pred_df):\n",
    "  temp =  (pd.DataFrame(classification_report(pred_df[\"y_test\"],\n",
    "                                      pred_df[\"y_pred\"],\n",
    "                                      output_dict = True))\n",
    "\n",
    "    .T\n",
    "  .iloc[0:6])\n",
    "  return temp.to_dict(orient = 'list')\n",
    "\n",
    "\n",
    "scoring = (pl.DataFrame(pd.DataFrame({i: {\n",
    "     'y_test': nest['y_test'],\n",
    "     'y_pred': nest['y_pred']\n",
    "}\n",
    "for i, nest in scores_df.items()})\n",
    ".T\n",
    ".reset_index()\n",
    ".rename(columns = {'index': 'fold'})\n",
    "\n",
    ")\n",
    ".with_columns(\n",
    "    class_report = pl.struct(['y_test', 'y_pred']).map_elements(class_report)\n",
    ")\n",
    ".unnest('class_report')\n",
    ".drop(['support', 'y_test', 'y_pred'])\n",
    ".explode(['precision', 'recall', 'f1-score'])\n",
    ".with_columns(\n",
    "    lbl = pl.col('fold').cum_count().over('fold')\n",
    ")\n",
    ")\n",
    "\n",
    "\n",
    "df_pivot = scoring.to_pandas()\n",
    "\n",
    "\n",
    "num_folds = df_pivot['fold'].nunique()\n",
    "\n",
    "fig, axs = plt.subplots(2, 3, figsize=(15, 10), constrained_layout=True)\n",
    "fig.suptitle('Metrics by Fold')\n",
    "\n",
    "\n",
    "axs = axs.flatten()\n",
    "\n",
    "\n",
    "for fold in range(num_folds):\n",
    "    fold_data = df_pivot.query(\"fold == @fold\")\n",
    "\n",
    "\n",
    "    bar_width = 0.25\n",
    "    labels = fold_data['lbl'].astype(str)\n",
    "    x = range(len(labels))\n",
    "\n",
    "    axs[fold].bar(x, fold_data['precision'], width=bar_width, label='Precision', color='b', align='center')\n",
    "    axs[fold].bar([p + bar_width for p in x], fold_data['recall'], width=bar_width, label='Recall', color='r', align='center')\n",
    "    axs[fold].bar([p + bar_width*2 for p in x], fold_data['f1-score'], width=bar_width, label='F1-Score', color='g', align='center')\n",
    "\n",
    "    axs[fold].set_title(f'Fold {fold}')\n",
    "    axs[fold].set_xlabel('Label')\n",
    "    axs[fold].set_ylabel('Score')\n",
    "    axs[fold].set_xticks([p + 1.5 * bar_width for p in x])\n",
    "    axs[fold].set_xticklabels(labels)\n",
    "    axs[fold].legend()\n",
    "\n",
    "\n",
    "fig.delaxes(axs[-1])\n",
    "\n",
    "plt.show()\n",
    "\n",
    "\n"
   ],
   "metadata": {
    "colab": {
     "base_uri": "https://localhost:8080/",
     "height": 440
    },
    "id": "fG3b-jWHWB3T",
    "outputId": "77be3983-f8bb-453a-a471-fb573c89d80b"
   },
   "execution_count": 34,
   "outputs": [
    {
     "output_type": "display_data",
     "data": {
      "text/plain": [
       "<Figure size 1500x1000 with 5 Axes>"
      ],
      "image/png": "[encoded data removed]"
     },
     "metadata": {}
    }
   ]
  },
  {
   "cell_type": "code",
   "source": [
    "\n",
    "get_conf = (pd.DataFrame({i: {'score': nest['score'],\n",
    "     'y_test':nest['y_test'],\n",
    "     'y_pred': nest['y_pred']\n",
    "}\n",
    "for i, nest in scores_df.items()})\n",
    ".T\n",
    ".reset_index()\n",
    ".rename(columns = {'index': 'fold'})\n",
    ")\n",
    "\n",
    "\n",
    "get_conf"
   ],
   "metadata": {
    "id": "hPZnsXSoWMrW",
    "colab": {
     "base_uri": "https://localhost:8080/",
     "height": 293
    },
    "outputId": "56473a89-00f2-479a-c588-6525b0c13233"
   },
   "execution_count": 36,
   "outputs": [
    {
     "output_type": "execute_result",
     "data": {
      "text/plain": [
       "   fold     score                                             y_test  \\\n",
       "0     0  0.798166  [2, 1, 2, 1, 3, 3, 1, 0, 2, 2, 2, 2, 1, 2, 3, ...   \n",
       "1     1  0.805996  [3, 3, 2, 2, 1, 3, 1, 3, 3, 3, 2, 1, 1, 4, 2, ...   \n",
       "2     2  0.791126  [3, 1, 2, 2, 2, 0, 3, 3, 1, 3, 3, 2, 2, 3, 2, ...   \n",
       "3     3  0.793364  [2, 2, 2, 1, 1, 3, 3, 0, 0, 1, 1, 3, 2, 3, 3, ...   \n",
       "4     4  0.794353  [1, 2, 1, 1, 3, 2, 1, 2, 0, 1, 2, 0, 2, 3, 1, ...   \n",
       "\n",
       "                                              y_pred  \n",
       "0  [1, 1, 2, 1, 3, 3, 1, 2, 2, 1, 2, 2, 0, 2, 2, ...  \n",
       "1  [3, 3, 2, 2, 1, 3, 1, 3, 3, 3, 2, 2, 1, 4, 3, ...  \n",
       "2  [3, 1, 2, 1, 2, 0, 2, 3, 1, 4, 2, 2, 2, 4, 3, ...  \n",
       "3  [1, 1, 2, 0, 2, 2, 3, 1, 1, 1, 2, 4, 2, 2, 3, ...  \n",
       "4  [1, 2, 1, 2, 3, 3, 2, 3, 2, 0, 2, 0, 2, 3, 1, ...  "
      ],
      "text/html": [
       "\n",
       "  <div id=\"df-0a8a3327-4cab-4861-a60b-cf984d994111\" class=\"colab-df-container\">\n",
       "    <div>\n",
       "<style scoped>\n",
       "    .dataframe tbody tr th:only-of-type {\n",
       "        vertical-align: middle;\n",
       "    }\n",
       "\n",
       "    .dataframe tbody tr th {\n",
       "        vertical-align: top;\n",
       "    }\n",
       "\n",
       "    .dataframe thead th {\n",
       "        text-align: right;\n",
       "    }\n",
       "</style>\n",
       "<table border=\"1\" class=\"dataframe\">\n",
       "  <thead>\n",
       "    <tr style=\"text-align: right;\">\n",
       "      <th></th>\n",
       "      <th>fold</th>\n",
       "      <th>score</th>\n",
       "      <th>y_test</th>\n",
       "      <th>y_pred</th>\n",
       "    </tr>\n",
       "  </thead>\n",
       "  <tbody>\n",
       "    <tr>\n",
       "      <th>0</th>\n",
       "      <td>0</td>\n",
       "      <td>0.798166</td>\n",
       "      <td>[2, 1, 2, 1, 3, 3, 1, 0, 2, 2, 2, 2, 1, 2, 3, ...</td>\n",
       "      <td>[1, 1, 2, 1, 3, 3, 1, 2, 2, 1, 2, 2, 0, 2, 2, ...</td>\n",
       "    </tr>\n",
       "    <tr>\n",
       "      <th>1</th>\n",
       "      <td>1</td>\n",
       "      <td>0.805996</td>\n",
       "      <td>[3, 3, 2, 2, 1, 3, 1, 3, 3, 3, 2, 1, 1, 4, 2, ...</td>\n",
       "      <td>[3, 3, 2, 2, 1, 3, 1, 3, 3, 3, 2, 2, 1, 4, 3, ...</td>\n",
       "    </tr>\n",
       "    <tr>\n",
       "      <th>2</th>\n",
       "      <td>2</td>\n",
       "      <td>0.791126</td>\n",
       "      <td>[3, 1, 2, 2, 2, 0, 3, 3, 1, 3, 3, 2, 2, 3, 2, ...</td>\n",
       "      <td>[3, 1, 2, 1, 2, 0, 2, 3, 1, 4, 2, 2, 2, 4, 3, ...</td>\n",
       "    </tr>\n",
       "    <tr>\n",
       "      <th>3</th>\n",
       "      <td>3</td>\n",
       "      <td>0.793364</td>\n",
       "      <td>[2, 2, 2, 1, 1, 3, 3, 0, 0, 1, 1, 3, 2, 3, 3, ...</td>\n",
       "      <td>[1, 1, 2, 0, 2, 2, 3, 1, 1, 1, 2, 4, 2, 2, 3, ...</td>\n",
       "    </tr>\n",
       "    <tr>\n",
       "      <th>4</th>\n",
       "      <td>4</td>\n",
       "      <td>0.794353</td>\n",
       "      <td>[1, 2, 1, 1, 3, 2, 1, 2, 0, 1, 2, 0, 2, 3, 1, ...</td>\n",
       "      <td>[1, 2, 1, 2, 3, 3, 2, 3, 2, 0, 2, 0, 2, 3, 1, ...</td>\n",
       "    </tr>\n",
       "  </tbody>\n",
       "</table>\n",
       "</div>\n",
       "    <div class=\"colab-df-buttons\">\n",
       "\n",
       "  <div class=\"colab-df-container\">\n",
       "    <button class=\"colab-df-convert\" onclick=\"convertToInteractive('df-0a8a3327-4cab-4861-a60b-cf984d994111')\"\n",
       "            title=\"Convert this dataframe to an interactive table.\"\n",
       "            style=\"display:none;\">\n",
       "\n",
       "  <svg xmlns=\"http://www.w3.org/2000/svg\" height=\"24px\" viewBox=\"0 -960 960 960\">\n",
       "    <path d=\"M120-120v-720h720v720H120Zm60-500h600v-160H180v160Zm220 220h160v-160H400v160Zm0 220h160v-160H400v160ZM180-400h160v-160H180v160Zm440 0h160v-160H620v160ZM180-180h160v-160H180v160Zm440 0h160v-160H620v160Z\"/>\n",
       "  </svg>\n",
       "    </button>\n",
       "\n",
       "  <style>\n",
       "    .colab-df-container {\n",
       "      display:flex;\n",
       "      gap: 12px;\n",
       "    }\n",
       "\n",
       "    .colab-df-convert {\n",
       "      background-color: #E8F0FE;\n",
       "      border: none;\n",
       "      border-radius: 50%;\n",
       "      cursor: pointer;\n",
       "      display: none;\n",
       "      fill: #1967D2;\n",
       "      height: 32px;\n",
       "      padding: 0 0 0 0;\n",
       "      width: 32px;\n",
       "    }\n",
       "\n",
       "    .colab-df-convert:hover {\n",
       "      background-color: #E2EBFA;\n",
       "      box-shadow: 0px 1px 2px rgba(60, 64, 67, 0.3), 0px 1px 3px 1px rgba(60, 64, 67, 0.15);\n",
       "      fill: #174EA6;\n",
       "    }\n",
       "\n",
       "    .colab-df-buttons div {\n",
       "      margin-bottom: 4px;\n",
       "    }\n",
       "\n",
       "    [theme=dark] .colab-df-convert {\n",
       "      background-color: #3B4455;\n",
       "      fill: #D2E3FC;\n",
       "    }\n",
       "\n",
       "    [theme=dark] .colab-df-convert:hover {\n",
       "      background-color: #434B5C;\n",
       "      box-shadow: 0px 1px 3px 1px rgba(0, 0, 0, 0.15);\n",
       "      filter: drop-shadow(0px 1px 2px rgba(0, 0, 0, 0.3));\n",
       "      fill: #FFFFFF;\n",
       "    }\n",
       "  </style>\n",
       "\n",
       "    <script>\n",
       "      const buttonEl =\n",
       "        document.querySelector('#df-0a8a3327-4cab-4861-a60b-cf984d994111 button.colab-df-convert');\n",
       "      buttonEl.style.display =\n",
       "        google.colab.kernel.accessAllowed ? 'block' : 'none';\n",
       "\n",
       "      async function convertToInteractive(key) {\n",
       "        const element = document.querySelector('#df-0a8a3327-4cab-4861-a60b-cf984d994111');\n",
       "        const dataTable =\n",
       "          await google.colab.kernel.invokeFunction('convertToInteractive',\n",
       "                                                    [key], {});\n",
       "        if (!dataTable) return;\n",
       "\n",
       "        const docLinkHtml = 'Like what you see? Visit the ' +\n",
       "          '<a target=\"_blank\" href=https://colab.research.google.com/notebooks/data_table.ipynb>data table notebook</a>'\n",
       "          + ' to learn more about interactive tables.';\n",
       "        element.innerHTML = '';\n",
       "        dataTable['output_type'] = 'display_data';\n",
       "        await google.colab.output.renderOutput(dataTable, element);\n",
       "        const docLink = document.createElement('div');\n",
       "        docLink.innerHTML = docLinkHtml;\n",
       "        element.appendChild(docLink);\n",
       "      }\n",
       "    </script>\n",
       "  </div>\n",
       "\n",
       "\n",
       "<div id=\"df-6cf04767-ff51-462d-898a-b8b1d706900a\">\n",
       "  <button class=\"colab-df-quickchart\" onclick=\"quickchart('df-6cf04767-ff51-462d-898a-b8b1d706900a')\"\n",
       "            title=\"Suggest charts\"\n",
       "            style=\"display:none;\">\n",
       "\n",
       "<svg xmlns=\"http://www.w3.org/2000/svg\" height=\"24px\"viewBox=\"0 0 24 24\"\n",
       "     width=\"24px\">\n",
       "    <g>\n",
       "        <path d=\"M19 3H5c-1.1 0-2 .9-2 2v14c0 1.1.9 2 2 2h14c1.1 0 2-.9 2-2V5c0-1.1-.9-2-2-2zM9 17H7v-7h2v7zm4 0h-2V7h2v10zm4 0h-2v-4h2v4z\"/>\n",
       "    </g>\n",
       "</svg>\n",
       "  </button>\n",
       "\n",
       "<style>\n",
       "  .colab-df-quickchart {\n",
       "      --bg-color: #E8F0FE;\n",
       "      --fill-color: #1967D2;\n",
       "      --hover-bg-color: #E2EBFA;\n",
       "      --hover-fill-color: #174EA6;\n",
       "      --disabled-fill-color: #AAA;\n",
       "      --disabled-bg-color: #DDD;\n",
       "  }\n",
       "\n",
       "  [theme=dark] .colab-df-quickchart {\n",
       "      --bg-color: #3B4455;\n",
       "      --fill-color: #D2E3FC;\n",
       "      --hover-bg-color: #434B5C;\n",
       "      --hover-fill-color: #FFFFFF;\n",
       "      --disabled-bg-color: #3B4455;\n",
       "      --disabled-fill-color: #666;\n",
       "  }\n",
       "\n",
       "  .colab-df-quickchart {\n",
       "    background-color: var(--bg-color);\n",
       "    border: none;\n",
       "    border-radius: 50%;\n",
       "    cursor: pointer;\n",
       "    display: none;\n",
       "    fill: var(--fill-color);\n",
       "    height: 32px;\n",
       "    padding: 0;\n",
       "    width: 32px;\n",
       "  }\n",
       "\n",
       "  .colab-df-quickchart:hover {\n",
       "    background-color: var(--hover-bg-color);\n",
       "    box-shadow: 0 1px 2px rgba(60, 64, 67, 0.3), 0 1px 3px 1px rgba(60, 64, 67, 0.15);\n",
       "    fill: var(--button-hover-fill-color);\n",
       "  }\n",
       "\n",
       "  .colab-df-quickchart-complete:disabled,\n",
       "  .colab-df-quickchart-complete:disabled:hover {\n",
       "    background-color: var(--disabled-bg-color);\n",
       "    fill: var(--disabled-fill-color);\n",
       "    box-shadow: none;\n",
       "  }\n",
       "\n",
       "  .colab-df-spinner {\n",
       "    border: 2px solid var(--fill-color);\n",
       "    border-color: transparent;\n",
       "    border-bottom-color: var(--fill-color);\n",
       "    animation:\n",
       "      spin 1s steps(1) infinite;\n",
       "  }\n",
       "\n",
       "  @keyframes spin {\n",
       "    0% {\n",
       "      border-color: transparent;\n",
       "      border-bottom-color: var(--fill-color);\n",
       "      border-left-color: var(--fill-color);\n",
       "    }\n",
       "    20% {\n",
       "      border-color: transparent;\n",
       "      border-left-color: var(--fill-color);\n",
       "      border-top-color: var(--fill-color);\n",
       "    }\n",
       "    30% {\n",
       "      border-color: transparent;\n",
       "      border-left-color: var(--fill-color);\n",
       "      border-top-color: var(--fill-color);\n",
       "      border-right-color: var(--fill-color);\n",
       "    }\n",
       "    40% {\n",
       "      border-color: transparent;\n",
       "      border-right-color: var(--fill-color);\n",
       "      border-top-color: var(--fill-color);\n",
       "    }\n",
       "    60% {\n",
       "      border-color: transparent;\n",
       "      border-right-color: var(--fill-color);\n",
       "    }\n",
       "    80% {\n",
       "      border-color: transparent;\n",
       "      border-right-color: var(--fill-color);\n",
       "      border-bottom-color: var(--fill-color);\n",
       "    }\n",
       "    90% {\n",
       "      border-color: transparent;\n",
       "      border-bottom-color: var(--fill-color);\n",
       "    }\n",
       "  }\n",
       "</style>\n",
       "\n",
       "  <script>\n",
       "    async function quickchart(key) {\n",
       "      const quickchartButtonEl =\n",
       "        document.querySelector('#' + key + ' button');\n",
       "      quickchartButtonEl.disabled = true;  // To prevent multiple clicks.\n",
       "      quickchartButtonEl.classList.add('colab-df-spinner');\n",
       "      try {\n",
       "        const charts = await google.colab.kernel.invokeFunction(\n",
       "            'suggestCharts', [key], {});\n",
       "      } catch (error) {\n",
       "        console.error('Error during call to suggestCharts:', error);\n",
       "      }\n",
       "      quickchartButtonEl.classList.remove('colab-df-spinner');\n",
       "      quickchartButtonEl.classList.add('colab-df-quickchart-complete');\n",
       "    }\n",
       "    (() => {\n",
       "      let quickchartButtonEl =\n",
       "        document.querySelector('#df-6cf04767-ff51-462d-898a-b8b1d706900a button');\n",
       "      quickchartButtonEl.style.display =\n",
       "        google.colab.kernel.accessAllowed ? 'block' : 'none';\n",
       "    })();\n",
       "  </script>\n",
       "</div>\n",
       "\n",
       "  <div id=\"id_c9a03b83-0015-4262-b8f2-18e170f0faf3\">\n",
       "    <style>\n",
       "      .colab-df-generate {\n",
       "        background-color: #E8F0FE;\n",
       "        border: none;\n",
       "        border-radius: 50%;\n",
       "        cursor: pointer;\n",
       "        display: none;\n",
       "        fill: #1967D2;\n",
       "        height: 32px;\n",
       "        padding: 0 0 0 0;\n",
       "        width: 32px;\n",
       "      }\n",
       "\n",
       "      .colab-df-generate:hover {\n",
       "        background-color: #E2EBFA;\n",
       "        box-shadow: 0px 1px 2px rgba(60, 64, 67, 0.3), 0px 1px 3px 1px rgba(60, 64, 67, 0.15);\n",
       "        fill: #174EA6;\n",
       "      }\n",
       "\n",
       "      [theme=dark] .colab-df-generate {\n",
       "        background-color: #3B4455;\n",
       "        fill: #D2E3FC;\n",
       "      }\n",
       "\n",
       "      [theme=dark] .colab-df-generate:hover {\n",
       "        background-color: #434B5C;\n",
       "        box-shadow: 0px 1px 3px 1px rgba(0, 0, 0, 0.15);\n",
       "        filter: drop-shadow(0px 1px 2px rgba(0, 0, 0, 0.3));\n",
       "        fill: #FFFFFF;\n",
       "      }\n",
       "    </style>\n",
       "    <button class=\"colab-df-generate\" onclick=\"generateWithVariable('get_conf')\"\n",
       "            title=\"Generate code using this dataframe.\"\n",
       "            style=\"display:none;\">\n",
       "\n",
       "  <svg xmlns=\"http://www.w3.org/2000/svg\" height=\"24px\"viewBox=\"0 0 24 24\"\n",
       "       width=\"24px\">\n",
       "    <path d=\"M7,19H8.4L18.45,9,17,7.55,7,17.6ZM5,21V16.75L18.45,3.32a2,2,0,0,1,2.83,0l1.4,1.43a1.91,1.91,0,0,1,.58,1.4,1.91,1.91,0,0,1-.58,1.4L9.25,21ZM18.45,9,17,7.55Zm-12,3A5.31,5.31,0,0,0,4.9,8.1,5.31,5.31,0,0,0,1,6.5,5.31,5.31,0,0,0,4.9,4.9,5.31,5.31,0,0,0,6.5,1,5.31,5.31,0,0,0,8.1,4.9,5.31,5.31,0,0,0,12,6.5,5.46,5.46,0,0,0,6.5,12Z\"/>\n",
       "  </svg>\n",
       "    </button>\n",
       "    <script>\n",
       "      (() => {\n",
       "      const buttonEl =\n",
       "        document.querySelector('#id_c9a03b83-0015-4262-b8f2-18e170f0faf3 button.colab-df-generate');\n",
       "      buttonEl.style.display =\n",
       "        google.colab.kernel.accessAllowed ? 'block' : 'none';\n",
       "\n",
       "      buttonEl.onclick = () => {\n",
       "        google.colab.notebook.generateWithVariable('get_conf');\n",
       "      }\n",
       "      })();\n",
       "    </script>\n",
       "  </div>\n",
       "\n",
       "    </div>\n",
       "  </div>\n"
      ],
      "application/vnd.google.colaboratory.intrinsic+json": {
       "type": "dataframe",
       "variable_name": "get_conf",
       "summary": "{\n  \"name\": \"get_conf\",\n  \"rows\": 5,\n  \"fields\": [\n    {\n      \"column\": \"fold\",\n      \"properties\": {\n        \"dtype\": \"number\",\n        \"std\": 1,\n        \"min\": 0,\n        \"max\": 4,\n        \"num_unique_values\": 5,\n        \"samples\": [\n          1,\n          4,\n          2\n        ],\n        \"semantic_type\": \"\",\n        \"description\": \"\"\n      }\n    },\n    {\n      \"column\": \"score\",\n      \"properties\": {\n        \"dtype\": \"date\",\n        \"min\": 0.7911256262904904,\n        \"max\": 0.8059959150695792,\n        \"num_unique_values\": 5,\n        \"samples\": [\n          0.8059959150695792,\n          0.7943525649652072,\n          0.7911256262904904\n        ],\n        \"semantic_type\": \"\",\n        \"description\": \"\"\n      }\n    },\n    {\n      \"column\": \"y_test\",\n      \"properties\": {\n        \"dtype\": \"object\",\n        \"semantic_type\": \"\",\n        \"description\": \"\"\n      }\n    },\n    {\n      \"column\": \"y_pred\",\n      \"properties\": {\n        \"dtype\": \"object\",\n        \"semantic_type\": \"\",\n        \"description\": \"\"\n      }\n    }\n  ]\n}"
      }
     },
     "metadata": {},
     "execution_count": 36
    }
   ]
  },
  {
   "cell_type": "code",
   "source": [
    "\n",
    "\n",
    "\n",
    "labels = list(set(get_conf.loc[0, 'y_test']))\n",
    "fig, axs = plt.subplots(2, 3, figsize=(15, 10), constrained_layout=True)\n",
    "\n",
    "\n",
    "for fold in range(num_folds):\n",
    "    scoring_ = get_conf.query(\"fold == @fold\")\n",
    "    list(scoring_[\"y_test\"])[0].tolist()\n",
    "    cm = confusion_matrix(list(scoring_[\"y_test\"])[0].tolist(),\n",
    "                          list(scoring_[\"y_pred\"])[0].tolist(),\n",
    "                          labels=labels)\n",
    "    disp = ConfusionMatrixDisplay(confusion_matrix=cm, display_labels=labels)\n",
    "    disp.plot(cmap=plt.cm.Blues, ax=axs[fold // 3, fold % 3])\n",
    "    axs[fold // 3, fold % 3].set_xticks(range(len(labels)))\n",
    "    axs[fold // 3, fold % 3].set_xticklabels(labels, rotation=90, ha='right')\n",
    "    axs[fold // 3, fold % 3].set_title(f'Fold {fold}')\n",
    "\n",
    "plt.subplots_adjust(bottom=0.2)\n",
    "plt.show()\n"
   ],
   "metadata": {
    "colab": {
     "base_uri": "https://localhost:8080/",
     "height": 495
    },
    "id": "usmtBOQ18eAH",
    "outputId": "d229228b-d644-4919-b006-51e8602cb4b8"
   },
   "execution_count": 68,
   "outputs": [
    {
     "output_type": "stream",
     "name": "stderr",
     "text": [
      "<ipython-input-68-f9faba594c3d>:17: UserWarning: This figure was using a layout engine that is incompatible with subplots_adjust and/or tight_layout; not calling subplots_adjust.\n",
      "  plt.subplots_adjust(bottom=0.2)\n"
     ]
    },
    {
     "output_type": "display_data",
     "data": {
      "text/plain": [
       "<Figure size 1500x1000 with 11 Axes>"
      ],
      "image/png": "[encoded data removed]"
     },
     "metadata": {}
    }
   ]
  },
  {
   "cell_type": "code",
   "source": [
    "\n",
    "def weight_values(fold, lbl):\n",
    "  weights = (\n",
    "  scoring\n",
    "  .groupby('fold')\n",
    "  .agg(\n",
    "      lbl = pl.col('lbl'),\n",
    "      f1_score = pl.col('f1-score')\n",
    "  )\n",
    "  .with_columns(\n",
    "      sum = pl.col('f1_score').list.sum()\n",
    "  )\n",
    "  .explode(['lbl', 'f1_score'])\n",
    "  .with_columns(\n",
    "      weight = pl.col('f1_score').truediv(pl.col('sum'))\n",
    "  )\n",
    "  .filter((pl.col('fold') == fold) & (pl.col('lbl') == lbl))\n",
    "  .item(0, \"weight\")\n",
    "  )\n",
    "  return weights\n"
   ],
   "metadata": {
    "id": "l8n5d_c_wVXU"
   },
   "execution_count": 98,
   "outputs": []
  },
  {
   "cell_type": "code",
   "source": [
    "weights = (\n",
    "  scoring\n",
    "  .groupby('fold')\n",
    "  .agg(\n",
    "      lbl = pl.col('lbl'),\n",
    "      f1_score = pl.col('f1-score')\n",
    "  )\n",
    "  .with_columns(\n",
    "      sum = pl.col('f1_score').list.sum()\n",
    "  )\n",
    "  .explode(['lbl', 'f1_score'])\n",
    "  .with_columns(\n",
    "      weight = pl.col('f1_score').truediv(pl.col('sum'))\n",
    "  )\n",
    ")\n",
    "\n",
    "joblib.dump(weights, \"/content/drive/MyDrive/essay/args/weights.pkl\")"
   ],
   "metadata": {
    "colab": {
     "base_uri": "https://localhost:8080/"
    },
    "id": "vZDpuqLP-8Yu",
    "outputId": "4970847e-1383-4e07-8856-524f747faf95"
   },
   "execution_count": 106,
   "outputs": [
    {
     "output_type": "stream",
     "name": "stderr",
     "text": [
      "<ipython-input-106-6a02f147fbca>:3: DeprecationWarning: `groupby` is deprecated. It has been renamed to `group_by`.\n",
      "  .groupby('fold')\n"
     ]
    },
    {
     "output_type": "execute_result",
     "data": {
      "text/plain": [
       "['/content/drive/MyDrive/essay/args/weights.pkl']"
      ]
     },
     "metadata": {},
     "execution_count": 106
    }
   ]
  },
  {
   "cell_type": "code",
   "source": [],
   "metadata": {
    "id": "qmP7-Y4AXJvq",
    "colab": {
     "base_uri": "https://localhost:8080/"
    },
    "outputId": "6b51ebc7-7ca9-4fd1-bed7-0cbce4af6eb5"
   },
   "execution_count": 31,
   "outputs": [
    {
     "output_type": "execute_result",
     "data": {
      "text/plain": [
       "5"
      ]
     },
     "metadata": {},
     "execution_count": 31
    }
   ]
  },
  {
   "cell_type": "code",
   "source": [],
   "metadata": {
    "id": "4BxKbGYCvO8Q"
   },
   "execution_count": null,
   "outputs": []
  }
 ],
 "metadata": {
  "accelerator": "GPU",
  "colab": {
   "gpuType": "T4",
   "machine_shape": "hm",
   "provenance": []
  },
  "kernelspec": {
   "display_name": "Python 3",
   "name": "python3"
  },
  "language_info": {
   "name": "python"
  },
  "widgets": {
   "application/vnd.jupyter.widget-state+json": {
    "03bd0b8ff907444c86f0a31fb3e1f496": {
     "model_module": "@jupyter-widgets/controls",
     "model_module_version": "1.5.0",
     "model_name": "HTMLModel",
     "state": {
      "_dom_classes": [],
      "_model_module": "@jupyter-widgets/controls",
      "_model_module_version": "1.5.0",
      "_model_name": "HTMLModel",
      "_view_count": null,
      "_view_module": "@jupyter-widgets/controls",
      "_view_module_version": "1.5.0",
      "_view_name": "HTMLView",
      "description": "",
      "description_tooltip": null,
      "layout": "IPY_MODEL_f138a3235d9d4b1e8990b983ea8ce257",
      "placeholder": "​",
      "style": "IPY_MODEL_f994942208d74d4e890aa349f0f17547",
      "value": " 17307/17307 [00:17&lt;00:00, 954.42 examples/s]"
     }
    },
    "05e161cce6c84793acb4cbb916248c16": {
     "model_module": "@jupyter-widgets/controls",
     "model_module_version": "1.5.0",
     "model_name": "DescriptionStyleModel",
     "state": {
      "_model_module": "@jupyter-widgets/controls",
      "_model_module_version": "1.5.0",
      "_model_name": "DescriptionStyleModel",
      "_view_count": null,
      "_view_module": "@jupyter-widgets/base",
      "_view_module_version": "1.2.0",
      "_view_name": "StyleView",
      "description_width": ""
     }
    },
    "0b7127d07b5b47c4baaf5aca118d7159": {
     "model_module": "@jupyter-widgets/controls",
     "model_module_version": "1.5.0",
     "model_name": "ProgressStyleModel",
     "state": {
      "_model_module": "@jupyter-widgets/controls",
      "_model_module_version": "1.5.0",
      "_model_name": "ProgressStyleModel",
      "_view_count": null,
      "_view_module": "@jupyter-widgets/base",
      "_view_module_version": "1.2.0",
      "_view_name": "StyleView",
      "bar_color": null,
      "description_width": ""
     }
    },
    "100899579f904a0591b5bb1318d4b270": {
     "model_module": "@jupyter-widgets/controls",
     "model_module_version": "1.5.0",
     "model_name": "DescriptionStyleModel",
     "state": {
      "_model_module": "@jupyter-widgets/controls",
      "_model_module_version": "1.5.0",
      "_model_name": "DescriptionStyleModel",
      "_view_count": null,
      "_view_module": "@jupyter-widgets/base",
      "_view_module_version": "1.2.0",
      "_view_name": "StyleView",
      "description_width": ""
     }
    },
    "170791c57ccf452a94375f7c6ffe6651": {
     "model_module": "@jupyter-widgets/controls",
     "model_module_version": "1.5.0",
     "model_name": "FloatProgressModel",
     "state": {
      "_dom_classes": [],
      "_model_module": "@jupyter-widgets/controls",
      "_model_module_version": "1.5.0",
      "_model_name": "FloatProgressModel",
      "_view_count": null,
      "_view_module": "@jupyter-widgets/controls",
      "_view_module_version": "1.5.0",
      "_view_name": "ProgressView",
      "bar_style": "success",
      "description": "",
      "description_tooltip": null,
      "layout": "IPY_MODEL_7991784f45c34e708b63b26c9ef8b96c",
      "max": 17307,
      "min": 0,
      "orientation": "horizontal",
      "style": "IPY_MODEL_dba7991ee94549549e19bf4ecfa80bf1",
      "value": 17307
     }
    },
    "1d0d86a32d30430683c42e038a73a194": {
     "model_module": "@jupyter-widgets/controls",
     "model_module_version": "1.5.0",
     "model_name": "FloatProgressModel",
     "state": {
      "_dom_classes": [],
      "_model_module": "@jupyter-widgets/controls",
      "_model_module_version": "1.5.0",
      "_model_name": "FloatProgressModel",
      "_view_count": null,
      "_view_module": "@jupyter-widgets/controls",
      "_view_module_version": "1.5.0",
      "_view_name": "ProgressView",
      "bar_style": "success",
      "description": "",
      "description_tooltip": null,
      "layout": "IPY_MODEL_2ddab6552c404cd394da0abc791bb02a",
      "max": 17307,
      "min": 0,
      "orientation": "horizontal",
      "style": "IPY_MODEL_0b7127d07b5b47c4baaf5aca118d7159",
      "value": 17307
     }
    },
    "2091a6f8eb924c9db9a1445013cdc9f5": {
     "model_module": "@jupyter-widgets/controls",
     "model_module_version": "1.5.0",
     "model_name": "HBoxModel",
     "state": {
      "_dom_classes": [],
      "_model_module": "@jupyter-widgets/controls",
      "_model_module_version": "1.5.0",
      "_model_name": "HBoxModel",
      "_view_count": null,
      "_view_module": "@jupyter-widgets/controls",
      "_view_module_version": "1.5.0",
      "_view_name": "HBoxView",
      "box_style": "",
      "children": [
       "IPY_MODEL_9844aea185c24ebd877da1fc3db4afe4",
       "IPY_MODEL_a6ecdaf20aa24c28ad114734c18b30be",
       "IPY_MODEL_dabe968a21e94bb3b9061513a8de8ef7"
      ],
      "layout": "IPY_MODEL_257fe7bef314461ab1dec5012a0f48d7"
     }
    },
    "257fe7bef314461ab1dec5012a0f48d7": {
     "model_module": "@jupyter-widgets/base",
     "model_module_version": "1.2.0",
     "model_name": "LayoutModel",
     "state": {
      "_model_module": "@jupyter-widgets/base",
      "_model_module_version": "1.2.0",
      "_model_name": "LayoutModel",
      "_view_count": null,
      "_view_module": "@jupyter-widgets/base",
      "_view_module_version": "1.2.0",
      "_view_name": "LayoutView",
      "align_content": null,
      "align_items": null,
      "align_self": null,
      "border": null,
      "bottom": null,
      "display": null,
      "flex": null,
      "flex_flow": null,
      "grid_area": null,
      "grid_auto_columns": null,
      "grid_auto_flow": null,
      "grid_auto_rows": null,
      "grid_column": null,
      "grid_gap": null,
      "grid_row": null,
      "grid_template_areas": null,
      "grid_template_columns": null,
      "grid_template_rows": null,
      "height": null,
      "justify_content": null,
      "justify_items": null,
      "left": null,
      "margin": null,
      "max_height": null,
      "max_width": null,
      "min_height": null,
      "min_width": null,
      "object_fit": null,
      "object_position": null,
      "order": null,
      "overflow": null,
      "overflow_x": null,
      "overflow_y": null,
      "padding": null,
      "right": null,
      "top": null,
      "visibility": null,
      "width": null
     }
    },
    "2ddab6552c404cd394da0abc791bb02a": {
     "model_module": "@jupyter-widgets/base",
     "model_module_version": "1.2.0",
     "model_name": "LayoutModel",
     "state": {
      "_model_module": "@jupyter-widgets/base",
      "_model_module_version": "1.2.0",
      "_model_name": "LayoutModel",
      "_view_count": null,
      "_view_module": "@jupyter-widgets/base",
      "_view_module_version": "1.2.0",
      "_view_name": "LayoutView",
      "align_content": null,
      "align_items": null,
      "align_self": null,
      "border": null,
      "bottom": null,
      "display": null,
      "flex": null,
      "flex_flow": null,
      "grid_area": null,
      "grid_auto_columns": null,
      "grid_auto_flow": null,
      "grid_auto_rows": null,
      "grid_column": null,
      "grid_gap": null,
      "grid_row": null,
      "grid_template_areas": null,
      "grid_template_columns": null,
      "grid_template_rows": null,
      "height": null,
      "justify_content": null,
      "justify_items": null,
      "left": null,
      "margin": null,
      "max_height": null,
      "max_width": null,
      "min_height": null,
      "min_width": null,
      "object_fit": null,
      "object_position": null,
      "order": null,
      "overflow": null,
      "overflow_x": null,
      "overflow_y": null,
      "padding": null,
      "right": null,
      "top": null,
      "visibility": null,
      "width": null
     }
    },
    "309c7d4bb05545a3aa37439f20eff5de": {
     "model_module": "@jupyter-widgets/controls",
     "model_module_version": "1.5.0",
     "model_name": "HTMLModel",
     "state": {
      "_dom_classes": [],
      "_model_module": "@jupyter-widgets/controls",
      "_model_module_version": "1.5.0",
      "_model_name": "HTMLModel",
      "_view_count": null,
      "_view_module": "@jupyter-widgets/controls",
      "_view_module_version": "1.5.0",
      "_view_name": "HTMLView",
      "description": "",
      "description_tooltip": null,
      "layout": "IPY_MODEL_565397047bef4444b8c9f2e5263e47f6",
      "placeholder": "​",
      "style": "IPY_MODEL_5a5e41c458234fdc8125db71f4c93d7a",
      "value": "Map (num_proc=7): 100%"
     }
    },
    "3532e0c8bd0b43d497518951c313c2f1": {
     "model_module": "@jupyter-widgets/base",
     "model_module_version": "1.2.0",
     "model_name": "LayoutModel",
     "state": {
      "_model_module": "@jupyter-widgets/base",
      "_model_module_version": "1.2.0",
      "_model_name": "LayoutModel",
      "_view_count": null,
      "_view_module": "@jupyter-widgets/base",
      "_view_module_version": "1.2.0",
      "_view_name": "LayoutView",
      "align_content": null,
      "align_items": null,
      "align_self": null,
      "border": null,
      "bottom": null,
      "display": null,
      "flex": null,
      "flex_flow": null,
      "grid_area": null,
      "grid_auto_columns": null,
      "grid_auto_flow": null,
      "grid_auto_rows": null,
      "grid_column": null,
      "grid_gap": null,
      "grid_row": null,
      "grid_template_areas": null,
      "grid_template_columns": null,
      "grid_template_rows": null,
      "height": null,
      "justify_content": null,
      "justify_items": null,
      "left": null,
      "margin": null,
      "max_height": null,
      "max_width": null,
      "min_height": null,
      "min_width": null,
      "object_fit": null,
      "object_position": null,
      "order": null,
      "overflow": null,
      "overflow_x": null,
      "overflow_y": null,
      "padding": null,
      "right": null,
      "top": null,
      "visibility": null,
      "width": null
     }
    },
    "377c267065e84799b8640c39fda135a0": {
     "model_module": "@jupyter-widgets/base",
     "model_module_version": "1.2.0",
     "model_name": "LayoutModel",
     "state": {
      "_model_module": "@jupyter-widgets/base",
      "_model_module_version": "1.2.0",
      "_model_name": "LayoutModel",
      "_view_count": null,
      "_view_module": "@jupyter-widgets/base",
      "_view_module_version": "1.2.0",
      "_view_name": "LayoutView",
      "align_content": null,
      "align_items": null,
      "align_self": null,
      "border": null,
      "bottom": null,
      "display": null,
      "flex": null,
      "flex_flow": null,
      "grid_area": null,
      "grid_auto_columns": null,
      "grid_auto_flow": null,
      "grid_auto_rows": null,
      "grid_column": null,
      "grid_gap": null,
      "grid_row": null,
      "grid_template_areas": null,
      "grid_template_columns": null,
      "grid_template_rows": null,
      "height": null,
      "justify_content": null,
      "justify_items": null,
      "left": null,
      "margin": null,
      "max_height": null,
      "max_width": null,
      "min_height": null,
      "min_width": null,
      "object_fit": null,
      "object_position": null,
      "order": null,
      "overflow": null,
      "overflow_x": null,
      "overflow_y": null,
      "padding": null,
      "right": null,
      "top": null,
      "visibility": null,
      "width": null
     }
    },
    "3b3174f7e10d4f4ebd40fc59d115ff17": {
     "model_module": "@jupyter-widgets/controls",
     "model_module_version": "1.5.0",
     "model_name": "FloatProgressModel",
     "state": {
      "_dom_classes": [],
      "_model_module": "@jupyter-widgets/controls",
      "_model_module_version": "1.5.0",
      "_model_name": "FloatProgressModel",
      "_view_count": null,
      "_view_module": "@jupyter-widgets/controls",
      "_view_module_version": "1.5.0",
      "_view_name": "ProgressView",
      "bar_style": "success",
      "description": "",
      "description_tooltip": null,
      "layout": "IPY_MODEL_af287bd852244138ad5f4222b8d4fe1a",
      "max": 17307,
      "min": 0,
      "orientation": "horizontal",
      "style": "IPY_MODEL_afe3495542c949c887c7c64d0e6a498e",
      "value": 17307
     }
    },
    "4865cdc748724b4eac799c86b4b0ebc8": {
     "model_module": "@jupyter-widgets/controls",
     "model_module_version": "1.5.0",
     "model_name": "HBoxModel",
     "state": {
      "_dom_classes": [],
      "_model_module": "@jupyter-widgets/controls",
      "_model_module_version": "1.5.0",
      "_model_name": "HBoxModel",
      "_view_count": null,
      "_view_module": "@jupyter-widgets/controls",
      "_view_module_version": "1.5.0",
      "_view_name": "HBoxView",
      "box_style": "",
      "children": [
       "IPY_MODEL_c3bf36af98ac4b56b78d224d8fdae78e",
       "IPY_MODEL_3b3174f7e10d4f4ebd40fc59d115ff17",
       "IPY_MODEL_03bd0b8ff907444c86f0a31fb3e1f496"
      ],
      "layout": "IPY_MODEL_84ab3acbb399471ebfecf5a9b61bf399"
     }
    },
    "4bf8747aba4a4993b3e3c5c3623dfa09": {
     "model_module": "@jupyter-widgets/controls",
     "model_module_version": "1.5.0",
     "model_name": "DescriptionStyleModel",
     "state": {
      "_model_module": "@jupyter-widgets/controls",
      "_model_module_version": "1.5.0",
      "_model_name": "DescriptionStyleModel",
      "_view_count": null,
      "_view_module": "@jupyter-widgets/base",
      "_view_module_version": "1.2.0",
      "_view_name": "StyleView",
      "description_width": ""
     }
    },
    "4c1f8334587544b783c4665baaa4fcdd": {
     "model_module": "@jupyter-widgets/controls",
     "model_module_version": "1.5.0",
     "model_name": "HTMLModel",
     "state": {
      "_dom_classes": [],
      "_model_module": "@jupyter-widgets/controls",
      "_model_module_version": "1.5.0",
      "_model_name": "HTMLModel",
      "_view_count": null,
      "_view_module": "@jupyter-widgets/controls",
      "_view_module_version": "1.5.0",
      "_view_name": "HTMLView",
      "description": "",
      "description_tooltip": null,
      "layout": "IPY_MODEL_a9159a56c23f48c69975fadb575af9d4",
      "placeholder": "​",
      "style": "IPY_MODEL_100899579f904a0591b5bb1318d4b270",
      "value": " 17307/17307 [00:10&lt;00:00, 1937.56 examples/s]"
     }
    },
    "52d56e76349b4dcd92961e2436c45ad8": {
     "model_module": "@jupyter-widgets/controls",
     "model_module_version": "1.5.0",
     "model_name": "HBoxModel",
     "state": {
      "_dom_classes": [],
      "_model_module": "@jupyter-widgets/controls",
      "_model_module_version": "1.5.0",
      "_model_name": "HBoxModel",
      "_view_count": null,
      "_view_module": "@jupyter-widgets/controls",
      "_view_module_version": "1.5.0",
      "_view_name": "HBoxView",
      "box_style": "",
      "children": [
       "IPY_MODEL_ec0f353c5ddb4cd69d0a86f821131861",
       "IPY_MODEL_1d0d86a32d30430683c42e038a73a194",
       "IPY_MODEL_670ee97ab21a4115801a8ca712b71b3c"
      ],
      "layout": "IPY_MODEL_577d8b9c242d4ddb8b3ae666b102aec9"
     }
    },
    "54af7178f7654b38b37d6c62e0a313f3": {
     "model_module": "@jupyter-widgets/base",
     "model_module_version": "1.2.0",
     "model_name": "LayoutModel",
     "state": {
      "_model_module": "@jupyter-widgets/base",
      "_model_module_version": "1.2.0",
      "_model_name": "LayoutModel",
      "_view_count": null,
      "_view_module": "@jupyter-widgets/base",
      "_view_module_version": "1.2.0",
      "_view_name": "LayoutView",
      "align_content": null,
      "align_items": null,
      "align_self": null,
      "border": null,
      "bottom": null,
      "display": null,
      "flex": null,
      "flex_flow": null,
      "grid_area": null,
      "grid_auto_columns": null,
      "grid_auto_flow": null,
      "grid_auto_rows": null,
      "grid_column": null,
      "grid_gap": null,
      "grid_row": null,
      "grid_template_areas": null,
      "grid_template_columns": null,
      "grid_template_rows": null,
      "height": null,
      "justify_content": null,
      "justify_items": null,
      "left": null,
      "margin": null,
      "max_height": null,
      "max_width": null,
      "min_height": null,
      "min_width": null,
      "object_fit": null,
      "object_position": null,
      "order": null,
      "overflow": null,
      "overflow_x": null,
      "overflow_y": null,
      "padding": null,
      "right": null,
      "top": null,
      "visibility": null,
      "width": null
     }
    },
    "565397047bef4444b8c9f2e5263e47f6": {
     "model_module": "@jupyter-widgets/base",
     "model_module_version": "1.2.0",
     "model_name": "LayoutModel",
     "state": {
      "_model_module": "@jupyter-widgets/base",
      "_model_module_version": "1.2.0",
      "_model_name": "LayoutModel",
      "_view_count": null,
      "_view_module": "@jupyter-widgets/base",
      "_view_module_version": "1.2.0",
      "_view_name": "LayoutView",
      "align_content": null,
      "align_items": null,
      "align_self": null,
      "border": null,
      "bottom": null,
      "display": null,
      "flex": null,
      "flex_flow": null,
      "grid_area": null,
      "grid_auto_columns": null,
      "grid_auto_flow": null,
      "grid_auto_rows": null,
      "grid_column": null,
      "grid_gap": null,
      "grid_row": null,
      "grid_template_areas": null,
      "grid_template_columns": null,
      "grid_template_rows": null,
      "height": null,
      "justify_content": null,
      "justify_items": null,
      "left": null,
      "margin": null,
      "max_height": null,
      "max_width": null,
      "min_height": null,
      "min_width": null,
      "object_fit": null,
      "object_position": null,
      "order": null,
      "overflow": null,
      "overflow_x": null,
      "overflow_y": null,
      "padding": null,
      "right": null,
      "top": null,
      "visibility": null,
      "width": null
     }
    },
    "577d8b9c242d4ddb8b3ae666b102aec9": {
     "model_module": "@jupyter-widgets/base",
     "model_module_version": "1.2.0",
     "model_name": "LayoutModel",
     "state": {
      "_model_module": "@jupyter-widgets/base",
      "_model_module_version": "1.2.0",
      "_model_name": "LayoutModel",
      "_view_count": null,
      "_view_module": "@jupyter-widgets/base",
      "_view_module_version": "1.2.0",
      "_view_name": "LayoutView",
      "align_content": null,
      "align_items": null,
      "align_self": null,
      "border": null,
      "bottom": null,
      "display": null,
      "flex": null,
      "flex_flow": null,
      "grid_area": null,
      "grid_auto_columns": null,
      "grid_auto_flow": null,
      "grid_auto_rows": null,
      "grid_column": null,
      "grid_gap": null,
      "grid_row": null,
      "grid_template_areas": null,
      "grid_template_columns": null,
      "grid_template_rows": null,
      "height": null,
      "justify_content": null,
      "justify_items": null,
      "left": null,
      "margin": null,
      "max_height": null,
      "max_width": null,
      "min_height": null,
      "min_width": null,
      "object_fit": null,
      "object_position": null,
      "order": null,
      "overflow": null,
      "overflow_x": null,
      "overflow_y": null,
      "padding": null,
      "right": null,
      "top": null,
      "visibility": null,
      "width": null
     }
    },
    "5a5e41c458234fdc8125db71f4c93d7a": {
     "model_module": "@jupyter-widgets/controls",
     "model_module_version": "1.5.0",
     "model_name": "DescriptionStyleModel",
     "state": {
      "_model_module": "@jupyter-widgets/controls",
      "_model_module_version": "1.5.0",
      "_model_name": "DescriptionStyleModel",
      "_view_count": null,
      "_view_module": "@jupyter-widgets/base",
      "_view_module_version": "1.2.0",
      "_view_name": "StyleView",
      "description_width": ""
     }
    },
    "6091b48d2bb941c5ad706212dde4c58d": {
     "model_module": "@jupyter-widgets/controls",
     "model_module_version": "1.5.0",
     "model_name": "HTMLModel",
     "state": {
      "_dom_classes": [],
      "_model_module": "@jupyter-widgets/controls",
      "_model_module_version": "1.5.0",
      "_model_name": "HTMLModel",
      "_view_count": null,
      "_view_module": "@jupyter-widgets/controls",
      "_view_module_version": "1.5.0",
      "_view_name": "HTMLView",
      "description": "",
      "description_tooltip": null,
      "layout": "IPY_MODEL_dfcab640fc664b98804da5005fb39e4d",
      "placeholder": "​",
      "style": "IPY_MODEL_bfa86312d3344671ad8e843ff57080fe",
      "value": " 17307/17307 [00:16&lt;00:00, 1006.10 examples/s]"
     }
    },
    "670ee97ab21a4115801a8ca712b71b3c": {
     "model_module": "@jupyter-widgets/controls",
     "model_module_version": "1.5.0",
     "model_name": "HTMLModel",
     "state": {
      "_dom_classes": [],
      "_model_module": "@jupyter-widgets/controls",
      "_model_module_version": "1.5.0",
      "_model_name": "HTMLModel",
      "_view_count": null,
      "_view_module": "@jupyter-widgets/controls",
      "_view_module_version": "1.5.0",
      "_view_name": "HTMLView",
      "description": "",
      "description_tooltip": null,
      "layout": "IPY_MODEL_8c6b63763cc64d3794dd401cf790b2e7",
      "placeholder": "​",
      "style": "IPY_MODEL_94c0426826884a3ab97b11dd65c0b50e",
      "value": " 17307/17307 [00:29&lt;00:00, 596.98 examples/s]"
     }
    },
    "700147cba4334953afefc0936d9d11ed": {
     "model_module": "@jupyter-widgets/controls",
     "model_module_version": "1.5.0",
     "model_name": "ProgressStyleModel",
     "state": {
      "_model_module": "@jupyter-widgets/controls",
      "_model_module_version": "1.5.0",
      "_model_name": "ProgressStyleModel",
      "_view_count": null,
      "_view_module": "@jupyter-widgets/base",
      "_view_module_version": "1.2.0",
      "_view_name": "StyleView",
      "bar_color": null,
      "description_width": ""
     }
    },
    "7991784f45c34e708b63b26c9ef8b96c": {
     "model_module": "@jupyter-widgets/base",
     "model_module_version": "1.2.0",
     "model_name": "LayoutModel",
     "state": {
      "_model_module": "@jupyter-widgets/base",
      "_model_module_version": "1.2.0",
      "_model_name": "LayoutModel",
      "_view_count": null,
      "_view_module": "@jupyter-widgets/base",
      "_view_module_version": "1.2.0",
      "_view_name": "LayoutView",
      "align_content": null,
      "align_items": null,
      "align_self": null,
      "border": null,
      "bottom": null,
      "display": null,
      "flex": null,
      "flex_flow": null,
      "grid_area": null,
      "grid_auto_columns": null,
      "grid_auto_flow": null,
      "grid_auto_rows": null,
      "grid_column": null,
      "grid_gap": null,
      "grid_row": null,
      "grid_template_areas": null,
      "grid_template_columns": null,
      "grid_template_rows": null,
      "height": null,
      "justify_content": null,
      "justify_items": null,
      "left": null,
      "margin": null,
      "max_height": null,
      "max_width": null,
      "min_height": null,
      "min_width": null,
      "object_fit": null,
      "object_position": null,
      "order": null,
      "overflow": null,
      "overflow_x": null,
      "overflow_y": null,
      "padding": null,
      "right": null,
      "top": null,
      "visibility": null,
      "width": null
     }
    },
    "84ab3acbb399471ebfecf5a9b61bf399": {
     "model_module": "@jupyter-widgets/base",
     "model_module_version": "1.2.0",
     "model_name": "LayoutModel",
     "state": {
      "_model_module": "@jupyter-widgets/base",
      "_model_module_version": "1.2.0",
      "_model_name": "LayoutModel",
      "_view_count": null,
      "_view_module": "@jupyter-widgets/base",
      "_view_module_version": "1.2.0",
      "_view_name": "LayoutView",
      "align_content": null,
      "align_items": null,
      "align_self": null,
      "border": null,
      "bottom": null,
      "display": null,
      "flex": null,
      "flex_flow": null,
      "grid_area": null,
      "grid_auto_columns": null,
      "grid_auto_flow": null,
      "grid_auto_rows": null,
      "grid_column": null,
      "grid_gap": null,
      "grid_row": null,
      "grid_template_areas": null,
      "grid_template_columns": null,
      "grid_template_rows": null,
      "height": null,
      "justify_content": null,
      "justify_items": null,
      "left": null,
      "margin": null,
      "max_height": null,
      "max_width": null,
      "min_height": null,
      "min_width": null,
      "object_fit": null,
      "object_position": null,
      "order": null,
      "overflow": null,
      "overflow_x": null,
      "overflow_y": null,
      "padding": null,
      "right": null,
      "top": null,
      "visibility": null,
      "width": null
     }
    },
    "862df7efeadf4319b8a589b3adc37ac0": {
     "model_module": "@jupyter-widgets/base",
     "model_module_version": "1.2.0",
     "model_name": "LayoutModel",
     "state": {
      "_model_module": "@jupyter-widgets/base",
      "_model_module_version": "1.2.0",
      "_model_name": "LayoutModel",
      "_view_count": null,
      "_view_module": "@jupyter-widgets/base",
      "_view_module_version": "1.2.0",
      "_view_name": "LayoutView",
      "align_content": null,
      "align_items": null,
      "align_self": null,
      "border": null,
      "bottom": null,
      "display": null,
      "flex": null,
      "flex_flow": null,
      "grid_area": null,
      "grid_auto_columns": null,
      "grid_auto_flow": null,
      "grid_auto_rows": null,
      "grid_column": null,
      "grid_gap": null,
      "grid_row": null,
      "grid_template_areas": null,
      "grid_template_columns": null,
      "grid_template_rows": null,
      "height": null,
      "justify_content": null,
      "justify_items": null,
      "left": null,
      "margin": null,
      "max_height": null,
      "max_width": null,
      "min_height": null,
      "min_width": null,
      "object_fit": null,
      "object_position": null,
      "order": null,
      "overflow": null,
      "overflow_x": null,
      "overflow_y": null,
      "padding": null,
      "right": null,
      "top": null,
      "visibility": null,
      "width": null
     }
    },
    "89cb90c2e42c4a46b1f65a7662e9f1c9": {
     "model_module": "@jupyter-widgets/controls",
     "model_module_version": "1.5.0",
     "model_name": "ProgressStyleModel",
     "state": {
      "_model_module": "@jupyter-widgets/controls",
      "_model_module_version": "1.5.0",
      "_model_name": "ProgressStyleModel",
      "_view_count": null,
      "_view_module": "@jupyter-widgets/base",
      "_view_module_version": "1.2.0",
      "_view_name": "StyleView",
      "bar_color": null,
      "description_width": ""
     }
    },
    "8c33d6efbbca44829114ab72d2292361": {
     "model_module": "@jupyter-widgets/controls",
     "model_module_version": "1.5.0",
     "model_name": "DescriptionStyleModel",
     "state": {
      "_model_module": "@jupyter-widgets/controls",
      "_model_module_version": "1.5.0",
      "_model_name": "DescriptionStyleModel",
      "_view_count": null,
      "_view_module": "@jupyter-widgets/base",
      "_view_module_version": "1.2.0",
      "_view_name": "StyleView",
      "description_width": ""
     }
    },
    "8c6b63763cc64d3794dd401cf790b2e7": {
     "model_module": "@jupyter-widgets/base",
     "model_module_version": "1.2.0",
     "model_name": "LayoutModel",
     "state": {
      "_model_module": "@jupyter-widgets/base",
      "_model_module_version": "1.2.0",
      "_model_name": "LayoutModel",
      "_view_count": null,
      "_view_module": "@jupyter-widgets/base",
      "_view_module_version": "1.2.0",
      "_view_name": "LayoutView",
      "align_content": null,
      "align_items": null,
      "align_self": null,
      "border": null,
      "bottom": null,
      "display": null,
      "flex": null,
      "flex_flow": null,
      "grid_area": null,
      "grid_auto_columns": null,
      "grid_auto_flow": null,
      "grid_auto_rows": null,
      "grid_column": null,
      "grid_gap": null,
      "grid_row": null,
      "grid_template_areas": null,
      "grid_template_columns": null,
      "grid_template_rows": null,
      "height": null,
      "justify_content": null,
      "justify_items": null,
      "left": null,
      "margin": null,
      "max_height": null,
      "max_width": null,
      "min_height": null,
      "min_width": null,
      "object_fit": null,
      "object_position": null,
      "order": null,
      "overflow": null,
      "overflow_x": null,
      "overflow_y": null,
      "padding": null,
      "right": null,
      "top": null,
      "visibility": null,
      "width": null
     }
    },
    "94c0426826884a3ab97b11dd65c0b50e": {
     "model_module": "@jupyter-widgets/controls",
     "model_module_version": "1.5.0",
     "model_name": "DescriptionStyleModel",
     "state": {
      "_model_module": "@jupyter-widgets/controls",
      "_model_module_version": "1.5.0",
      "_model_name": "DescriptionStyleModel",
      "_view_count": null,
      "_view_module": "@jupyter-widgets/base",
      "_view_module_version": "1.2.0",
      "_view_name": "StyleView",
      "description_width": ""
     }
    },
    "9844aea185c24ebd877da1fc3db4afe4": {
     "model_module": "@jupyter-widgets/controls",
     "model_module_version": "1.5.0",
     "model_name": "HTMLModel",
     "state": {
      "_dom_classes": [],
      "_model_module": "@jupyter-widgets/controls",
      "_model_module_version": "1.5.0",
      "_model_name": "HTMLModel",
      "_view_count": null,
      "_view_module": "@jupyter-widgets/controls",
      "_view_module_version": "1.5.0",
      "_view_name": "HTMLView",
      "description": "",
      "description_tooltip": null,
      "layout": "IPY_MODEL_3532e0c8bd0b43d497518951c313c2f1",
      "placeholder": "​",
      "style": "IPY_MODEL_ed900bd0f46444348e412c221b734c60",
      "value": "Map:  96%"
     }
    },
    "a2f027d5d2fc4af7ae5abad9ed4e48de": {
     "model_module": "@jupyter-widgets/controls",
     "model_module_version": "1.5.0",
     "model_name": "DescriptionStyleModel",
     "state": {
      "_model_module": "@jupyter-widgets/controls",
      "_model_module_version": "1.5.0",
      "_model_name": "DescriptionStyleModel",
      "_view_count": null,
      "_view_module": "@jupyter-widgets/base",
      "_view_module_version": "1.2.0",
      "_view_name": "StyleView",
      "description_width": ""
     }
    },
    "a66e263eefc14b728027740cb818128b": {
     "model_module": "@jupyter-widgets/controls",
     "model_module_version": "1.5.0",
     "model_name": "HTMLModel",
     "state": {
      "_dom_classes": [],
      "_model_module": "@jupyter-widgets/controls",
      "_model_module_version": "1.5.0",
      "_model_name": "HTMLModel",
      "_view_count": null,
      "_view_module": "@jupyter-widgets/controls",
      "_view_module_version": "1.5.0",
      "_view_name": "HTMLView",
      "description": "",
      "description_tooltip": null,
      "layout": "IPY_MODEL_eaef95d8ea284238b5e3dbdeaa41f09a",
      "placeholder": "​",
      "style": "IPY_MODEL_4bf8747aba4a4993b3e3c5c3623dfa09",
      "value": "Filter: 100%"
     }
    },
    "a6ecdaf20aa24c28ad114734c18b30be": {
     "model_module": "@jupyter-widgets/controls",
     "model_module_version": "1.5.0",
     "model_name": "FloatProgressModel",
     "state": {
      "_dom_classes": [],
      "_model_module": "@jupyter-widgets/controls",
      "_model_module_version": "1.5.0",
      "_model_name": "FloatProgressModel",
      "_view_count": null,
      "_view_module": "@jupyter-widgets/controls",
      "_view_module_version": "1.5.0",
      "_view_name": "ProgressView",
      "bar_style": "",
      "description": "",
      "description_tooltip": null,
      "layout": "IPY_MODEL_54af7178f7654b38b37d6c62e0a313f3",
      "max": 11076,
      "min": 0,
      "orientation": "horizontal",
      "style": "IPY_MODEL_700147cba4334953afefc0936d9d11ed",
      "value": 10665
     }
    },
    "a9159a56c23f48c69975fadb575af9d4": {
     "model_module": "@jupyter-widgets/base",
     "model_module_version": "1.2.0",
     "model_name": "LayoutModel",
     "state": {
      "_model_module": "@jupyter-widgets/base",
      "_model_module_version": "1.2.0",
      "_model_name": "LayoutModel",
      "_view_count": null,
      "_view_module": "@jupyter-widgets/base",
      "_view_module_version": "1.2.0",
      "_view_name": "LayoutView",
      "align_content": null,
      "align_items": null,
      "align_self": null,
      "border": null,
      "bottom": null,
      "display": null,
      "flex": null,
      "flex_flow": null,
      "grid_area": null,
      "grid_auto_columns": null,
      "grid_auto_flow": null,
      "grid_auto_rows": null,
      "grid_column": null,
      "grid_gap": null,
      "grid_row": null,
      "grid_template_areas": null,
      "grid_template_columns": null,
      "grid_template_rows": null,
      "height": null,
      "justify_content": null,
      "justify_items": null,
      "left": null,
      "margin": null,
      "max_height": null,
      "max_width": null,
      "min_height": null,
      "min_width": null,
      "object_fit": null,
      "object_position": null,
      "order": null,
      "overflow": null,
      "overflow_x": null,
      "overflow_y": null,
      "padding": null,
      "right": null,
      "top": null,
      "visibility": null,
      "width": null
     }
    },
    "ad49f4b7a1684feb8c09a2a9125cd356": {
     "model_module": "@jupyter-widgets/base",
     "model_module_version": "1.2.0",
     "model_name": "LayoutModel",
     "state": {
      "_model_module": "@jupyter-widgets/base",
      "_model_module_version": "1.2.0",
      "_model_name": "LayoutModel",
      "_view_count": null,
      "_view_module": "@jupyter-widgets/base",
      "_view_module_version": "1.2.0",
      "_view_name": "LayoutView",
      "align_content": null,
      "align_items": null,
      "align_self": null,
      "border": null,
      "bottom": null,
      "display": null,
      "flex": null,
      "flex_flow": null,
      "grid_area": null,
      "grid_auto_columns": null,
      "grid_auto_flow": null,
      "grid_auto_rows": null,
      "grid_column": null,
      "grid_gap": null,
      "grid_row": null,
      "grid_template_areas": null,
      "grid_template_columns": null,
      "grid_template_rows": null,
      "height": null,
      "justify_content": null,
      "justify_items": null,
      "left": null,
      "margin": null,
      "max_height": null,
      "max_width": null,
      "min_height": null,
      "min_width": null,
      "object_fit": null,
      "object_position": null,
      "order": null,
      "overflow": null,
      "overflow_x": null,
      "overflow_y": null,
      "padding": null,
      "right": null,
      "top": null,
      "visibility": null,
      "width": null
     }
    },
    "af287bd852244138ad5f4222b8d4fe1a": {
     "model_module": "@jupyter-widgets/base",
     "model_module_version": "1.2.0",
     "model_name": "LayoutModel",
     "state": {
      "_model_module": "@jupyter-widgets/base",
      "_model_module_version": "1.2.0",
      "_model_name": "LayoutModel",
      "_view_count": null,
      "_view_module": "@jupyter-widgets/base",
      "_view_module_version": "1.2.0",
      "_view_name": "LayoutView",
      "align_content": null,
      "align_items": null,
      "align_self": null,
      "border": null,
      "bottom": null,
      "display": null,
      "flex": null,
      "flex_flow": null,
      "grid_area": null,
      "grid_auto_columns": null,
      "grid_auto_flow": null,
      "grid_auto_rows": null,
      "grid_column": null,
      "grid_gap": null,
      "grid_row": null,
      "grid_template_areas": null,
      "grid_template_columns": null,
      "grid_template_rows": null,
      "height": null,
      "justify_content": null,
      "justify_items": null,
      "left": null,
      "margin": null,
      "max_height": null,
      "max_width": null,
      "min_height": null,
      "min_width": null,
      "object_fit": null,
      "object_position": null,
      "order": null,
      "overflow": null,
      "overflow_x": null,
      "overflow_y": null,
      "padding": null,
      "right": null,
      "top": null,
      "visibility": null,
      "width": null
     }
    },
    "afe3495542c949c887c7c64d0e6a498e": {
     "model_module": "@jupyter-widgets/controls",
     "model_module_version": "1.5.0",
     "model_name": "ProgressStyleModel",
     "state": {
      "_model_module": "@jupyter-widgets/controls",
      "_model_module_version": "1.5.0",
      "_model_name": "ProgressStyleModel",
      "_view_count": null,
      "_view_module": "@jupyter-widgets/base",
      "_view_module_version": "1.2.0",
      "_view_name": "StyleView",
      "bar_color": null,
      "description_width": ""
     }
    },
    "b1aaa21e0a65479a8a71b920cd54a3ae": {
     "model_module": "@jupyter-widgets/controls",
     "model_module_version": "1.5.0",
     "model_name": "HBoxModel",
     "state": {
      "_dom_classes": [],
      "_model_module": "@jupyter-widgets/controls",
      "_model_module_version": "1.5.0",
      "_model_name": "HBoxModel",
      "_view_count": null,
      "_view_module": "@jupyter-widgets/controls",
      "_view_module_version": "1.5.0",
      "_view_name": "HBoxView",
      "box_style": "",
      "children": [
       "IPY_MODEL_a66e263eefc14b728027740cb818128b",
       "IPY_MODEL_c2e8e18359ed4ebdb14fa91d33209eca",
       "IPY_MODEL_6091b48d2bb941c5ad706212dde4c58d"
      ],
      "layout": "IPY_MODEL_862df7efeadf4319b8a589b3adc37ac0"
     }
    },
    "bc6b772ac3bd4cb88821849d845aca06": {
     "model_module": "@jupyter-widgets/controls",
     "model_module_version": "1.5.0",
     "model_name": "HBoxModel",
     "state": {
      "_dom_classes": [],
      "_model_module": "@jupyter-widgets/controls",
      "_model_module_version": "1.5.0",
      "_model_name": "HBoxModel",
      "_view_count": null,
      "_view_module": "@jupyter-widgets/controls",
      "_view_module_version": "1.5.0",
      "_view_name": "HBoxView",
      "box_style": "",
      "children": [
       "IPY_MODEL_309c7d4bb05545a3aa37439f20eff5de",
       "IPY_MODEL_170791c57ccf452a94375f7c6ffe6651",
       "IPY_MODEL_4c1f8334587544b783c4665baaa4fcdd"
      ],
      "layout": "IPY_MODEL_d9402d2367384d0ba8d3bec5208179ad"
     }
    },
    "bfa86312d3344671ad8e843ff57080fe": {
     "model_module": "@jupyter-widgets/controls",
     "model_module_version": "1.5.0",
     "model_name": "DescriptionStyleModel",
     "state": {
      "_model_module": "@jupyter-widgets/controls",
      "_model_module_version": "1.5.0",
      "_model_name": "DescriptionStyleModel",
      "_view_count": null,
      "_view_module": "@jupyter-widgets/base",
      "_view_module_version": "1.2.0",
      "_view_name": "StyleView",
      "description_width": ""
     }
    },
    "c2e8e18359ed4ebdb14fa91d33209eca": {
     "model_module": "@jupyter-widgets/controls",
     "model_module_version": "1.5.0",
     "model_name": "FloatProgressModel",
     "state": {
      "_dom_classes": [],
      "_model_module": "@jupyter-widgets/controls",
      "_model_module_version": "1.5.0",
      "_model_name": "FloatProgressModel",
      "_view_count": null,
      "_view_module": "@jupyter-widgets/controls",
      "_view_module_version": "1.5.0",
      "_view_name": "ProgressView",
      "bar_style": "success",
      "description": "",
      "description_tooltip": null,
      "layout": "IPY_MODEL_ad49f4b7a1684feb8c09a2a9125cd356",
      "max": 17307,
      "min": 0,
      "orientation": "horizontal",
      "style": "IPY_MODEL_89cb90c2e42c4a46b1f65a7662e9f1c9",
      "value": 17307
     }
    },
    "c3bf36af98ac4b56b78d224d8fdae78e": {
     "model_module": "@jupyter-widgets/controls",
     "model_module_version": "1.5.0",
     "model_name": "HTMLModel",
     "state": {
      "_dom_classes": [],
      "_model_module": "@jupyter-widgets/controls",
      "_model_module_version": "1.5.0",
      "_model_name": "HTMLModel",
      "_view_count": null,
      "_view_module": "@jupyter-widgets/controls",
      "_view_module_version": "1.5.0",
      "_view_name": "HTMLView",
      "description": "",
      "description_tooltip": null,
      "layout": "IPY_MODEL_d98ccca4448843e1a1e460cbc90e84d5",
      "placeholder": "​",
      "style": "IPY_MODEL_05e161cce6c84793acb4cbb916248c16",
      "value": "Filter: 100%"
     }
    },
    "d9402d2367384d0ba8d3bec5208179ad": {
     "model_module": "@jupyter-widgets/base",
     "model_module_version": "1.2.0",
     "model_name": "LayoutModel",
     "state": {
      "_model_module": "@jupyter-widgets/base",
      "_model_module_version": "1.2.0",
      "_model_name": "LayoutModel",
      "_view_count": null,
      "_view_module": "@jupyter-widgets/base",
      "_view_module_version": "1.2.0",
      "_view_name": "LayoutView",
      "align_content": null,
      "align_items": null,
      "align_self": null,
      "border": null,
      "bottom": null,
      "display": null,
      "flex": null,
      "flex_flow": null,
      "grid_area": null,
      "grid_auto_columns": null,
      "grid_auto_flow": null,
      "grid_auto_rows": null,
      "grid_column": null,
      "grid_gap": null,
      "grid_row": null,
      "grid_template_areas": null,
      "grid_template_columns": null,
      "grid_template_rows": null,
      "height": null,
      "justify_content": null,
      "justify_items": null,
      "left": null,
      "margin": null,
      "max_height": null,
      "max_width": null,
      "min_height": null,
      "min_width": null,
      "object_fit": null,
      "object_position": null,
      "order": null,
      "overflow": null,
      "overflow_x": null,
      "overflow_y": null,
      "padding": null,
      "right": null,
      "top": null,
      "visibility": null,
      "width": null
     }
    },
    "d98ccca4448843e1a1e460cbc90e84d5": {
     "model_module": "@jupyter-widgets/base",
     "model_module_version": "1.2.0",
     "model_name": "LayoutModel",
     "state": {
      "_model_module": "@jupyter-widgets/base",
      "_model_module_version": "1.2.0",
      "_model_name": "LayoutModel",
      "_view_count": null,
      "_view_module": "@jupyter-widgets/base",
      "_view_module_version": "1.2.0",
      "_view_name": "LayoutView",
      "align_content": null,
      "align_items": null,
      "align_self": null,
      "border": null,
      "bottom": null,
      "display": null,
      "flex": null,
      "flex_flow": null,
      "grid_area": null,
      "grid_auto_columns": null,
      "grid_auto_flow": null,
      "grid_auto_rows": null,
      "grid_column": null,
      "grid_gap": null,
      "grid_row": null,
      "grid_template_areas": null,
      "grid_template_columns": null,
      "grid_template_rows": null,
      "height": null,
      "justify_content": null,
      "justify_items": null,
      "left": null,
      "margin": null,
      "max_height": null,
      "max_width": null,
      "min_height": null,
      "min_width": null,
      "object_fit": null,
      "object_position": null,
      "order": null,
      "overflow": null,
      "overflow_x": null,
      "overflow_y": null,
      "padding": null,
      "right": null,
      "top": null,
      "visibility": null,
      "width": null
     }
    },
    "dabe968a21e94bb3b9061513a8de8ef7": {
     "model_module": "@jupyter-widgets/controls",
     "model_module_version": "1.5.0",
     "model_name": "HTMLModel",
     "state": {
      "_dom_classes": [],
      "_model_module": "@jupyter-widgets/controls",
      "_model_module_version": "1.5.0",
      "_model_name": "HTMLModel",
      "_view_count": null,
      "_view_module": "@jupyter-widgets/controls",
      "_view_module_version": "1.5.0",
      "_view_name": "HTMLView",
      "description": "",
      "description_tooltip": null,
      "layout": "IPY_MODEL_377c267065e84799b8640c39fda135a0",
      "placeholder": "​",
      "style": "IPY_MODEL_8c33d6efbbca44829114ab72d2292361",
      "value": " 10665/11076 [05:54&lt;00:12, 31.96 examples/s]"
     }
    },
    "dba7991ee94549549e19bf4ecfa80bf1": {
     "model_module": "@jupyter-widgets/controls",
     "model_module_version": "1.5.0",
     "model_name": "ProgressStyleModel",
     "state": {
      "_model_module": "@jupyter-widgets/controls",
      "_model_module_version": "1.5.0",
      "_model_name": "ProgressStyleModel",
      "_view_count": null,
      "_view_module": "@jupyter-widgets/base",
      "_view_module_version": "1.2.0",
      "_view_name": "StyleView",
      "bar_color": null,
      "description_width": ""
     }
    },
    "dfcab640fc664b98804da5005fb39e4d": {
     "model_module": "@jupyter-widgets/base",
     "model_module_version": "1.2.0",
     "model_name": "LayoutModel",
     "state": {
      "_model_module": "@jupyter-widgets/base",
      "_model_module_version": "1.2.0",
      "_model_name": "LayoutModel",
      "_view_count": null,
      "_view_module": "@jupyter-widgets/base",
      "_view_module_version": "1.2.0",
      "_view_name": "LayoutView",
      "align_content": null,
      "align_items": null,
      "align_self": null,
      "border": null,
      "bottom": null,
      "display": null,
      "flex": null,
      "flex_flow": null,
      "grid_area": null,
      "grid_auto_columns": null,
      "grid_auto_flow": null,
      "grid_auto_rows": null,
      "grid_column": null,
      "grid_gap": null,
      "grid_row": null,
      "grid_template_areas": null,
      "grid_template_columns": null,
      "grid_template_rows": null,
      "height": null,
      "justify_content": null,
      "justify_items": null,
      "left": null,
      "margin": null,
      "max_height": null,
      "max_width": null,
      "min_height": null,
      "min_width": null,
      "object_fit": null,
      "object_position": null,
      "order": null,
      "overflow": null,
      "overflow_x": null,
      "overflow_y": null,
      "padding": null,
      "right": null,
      "top": null,
      "visibility": null,
      "width": null
     }
    },
    "e01edfbb35b9423fb37b2a65832a0925": {
     "model_module": "@jupyter-widgets/base",
     "model_module_version": "1.2.0",
     "model_name": "LayoutModel",
     "state": {
      "_model_module": "@jupyter-widgets/base",
      "_model_module_version": "1.2.0",
      "_model_name": "LayoutModel",
      "_view_count": null,
      "_view_module": "@jupyter-widgets/base",
      "_view_module_version": "1.2.0",
      "_view_name": "LayoutView",
      "align_content": null,
      "align_items": null,
      "align_self": null,
      "border": null,
      "bottom": null,
      "display": null,
      "flex": null,
      "flex_flow": null,
      "grid_area": null,
      "grid_auto_columns": null,
      "grid_auto_flow": null,
      "grid_auto_rows": null,
      "grid_column": null,
      "grid_gap": null,
      "grid_row": null,
      "grid_template_areas": null,
      "grid_template_columns": null,
      "grid_template_rows": null,
      "height": null,
      "justify_content": null,
      "justify_items": null,
      "left": null,
      "margin": null,
      "max_height": null,
      "max_width": null,
      "min_height": null,
      "min_width": null,
      "object_fit": null,
      "object_position": null,
      "order": null,
      "overflow": null,
      "overflow_x": null,
      "overflow_y": null,
      "padding": null,
      "right": null,
      "top": null,
      "visibility": null,
      "width": null
     }
    },
    "eaef95d8ea284238b5e3dbdeaa41f09a": {
     "model_module": "@jupyter-widgets/base",
     "model_module_version": "1.2.0",
     "model_name": "LayoutModel",
     "state": {
      "_model_module": "@jupyter-widgets/base",
      "_model_module_version": "1.2.0",
      "_model_name": "LayoutModel",
      "_view_count": null,
      "_view_module": "@jupyter-widgets/base",
      "_view_module_version": "1.2.0",
      "_view_name": "LayoutView",
      "align_content": null,
      "align_items": null,
      "align_self": null,
      "border": null,
      "bottom": null,
      "display": null,
      "flex": null,
      "flex_flow": null,
      "grid_area": null,
      "grid_auto_columns": null,
      "grid_auto_flow": null,
      "grid_auto_rows": null,
      "grid_column": null,
      "grid_gap": null,
      "grid_row": null,
      "grid_template_areas": null,
      "grid_template_columns": null,
      "grid_template_rows": null,
      "height": null,
      "justify_content": null,
      "justify_items": null,
      "left": null,
      "margin": null,
      "max_height": null,
      "max_width": null,
      "min_height": null,
      "min_width": null,
      "object_fit": null,
      "object_position": null,
      "order": null,
      "overflow": null,
      "overflow_x": null,
      "overflow_y": null,
      "padding": null,
      "right": null,
      "top": null,
      "visibility": null,
      "width": null
     }
    },
    "ec0f353c5ddb4cd69d0a86f821131861": {
     "model_module": "@jupyter-widgets/controls",
     "model_module_version": "1.5.0",
     "model_name": "HTMLModel",
     "state": {
      "_dom_classes": [],
      "_model_module": "@jupyter-widgets/controls",
      "_model_module_version": "1.5.0",
      "_model_name": "HTMLModel",
      "_view_count": null,
      "_view_module": "@jupyter-widgets/controls",
      "_view_module_version": "1.5.0",
      "_view_name": "HTMLView",
      "description": "",
      "description_tooltip": null,
      "layout": "IPY_MODEL_e01edfbb35b9423fb37b2a65832a0925",
      "placeholder": "​",
      "style": "IPY_MODEL_a2f027d5d2fc4af7ae5abad9ed4e48de",
      "value": "Filter: 100%"
     }
    },
    "ed900bd0f46444348e412c221b734c60": {
     "model_module": "@jupyter-widgets/controls",
     "model_module_version": "1.5.0",
     "model_name": "DescriptionStyleModel",
     "state": {
      "_model_module": "@jupyter-widgets/controls",
      "_model_module_version": "1.5.0",
      "_model_name": "DescriptionStyleModel",
      "_view_count": null,
      "_view_module": "@jupyter-widgets/base",
      "_view_module_version": "1.2.0",
      "_view_name": "StyleView",
      "description_width": ""
     }
    },
    "f138a3235d9d4b1e8990b983ea8ce257": {
     "model_module": "@jupyter-widgets/base",
     "model_module_version": "1.2.0",
     "model_name": "LayoutModel",
     "state": {
      "_model_module": "@jupyter-widgets/base",
      "_model_module_version": "1.2.0",
      "_model_name": "LayoutModel",
      "_view_count": null,
      "_view_module": "@jupyter-widgets/base",
      "_view_module_version": "1.2.0",
      "_view_name": "LayoutView",
      "align_content": null,
      "align_items": null,
      "align_self": null,
      "border": null,
      "bottom": null,
      "display": null,
      "flex": null,
      "flex_flow": null,
      "grid_area": null,
      "grid_auto_columns": null,
      "grid_auto_flow": null,
      "grid_auto_rows": null,
      "grid_column": null,
      "grid_gap": null,
      "grid_row": null,
      "grid_template_areas": null,
      "grid_template_columns": null,
      "grid_template_rows": null,
      "height": null,
      "justify_content": null,
      "justify_items": null,
      "left": null,
      "margin": null,
      "max_height": null,
      "max_width": null,
      "min_height": null,
      "min_width": null,
      "object_fit": null,
      "object_position": null,
      "order": null,
      "overflow": null,
      "overflow_x": null,
      "overflow_y": null,
      "padding": null,
      "right": null,
      "top": null,
      "visibility": null,
      "width": null
     }
    },
    "f994942208d74d4e890aa349f0f17547": {
     "model_module": "@jupyter-widgets/controls",
     "model_module_version": "1.5.0",
     "model_name": "DescriptionStyleModel",
     "state": {
      "_model_module": "@jupyter-widgets/controls",
      "_model_module_version": "1.5.0",
      "_model_name": "DescriptionStyleModel",
      "_view_count": null,
      "_view_module": "@jupyter-widgets/base",
      "_view_module_version": "1.2.0",
      "_view_name": "StyleView",
      "description_width": ""
     }
    }
   }
  }
 },
 "nbformat": 4,
 "nbformat_minor": 0
}
